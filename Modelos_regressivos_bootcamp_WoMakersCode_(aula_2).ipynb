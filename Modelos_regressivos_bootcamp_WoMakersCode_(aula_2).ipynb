{
  "nbformat": 4,
  "nbformat_minor": 0,
  "metadata": {
    "colab": {
      "name": "Modelos regressivos bootcamp WoMakersCode (aula 2).ipynb",
      "provenance": [],
      "include_colab_link": true
    },
    "kernelspec": {
      "name": "python3",
      "display_name": "Python 3"
    }
  },
  "cells": [
    {
      "cell_type": "markdown",
      "metadata": {
        "id": "view-in-github",
        "colab_type": "text"
      },
      "source": [
        "<a href=\"https://colab.research.google.com/github/mariacmartins/datascience-bootcamp-womakerscode/blob/master/Modelos_regressivos_bootcamp_WoMakersCode_(aula_2).ipynb\" target=\"_parent\"><img src=\"https://colab.research.google.com/assets/colab-badge.svg\" alt=\"Open In Colab\"/></a>"
      ]
    },
    {
      "cell_type": "markdown",
      "metadata": {
        "id": "wSQ-d1TyHTht",
        "colab_type": "text"
      },
      "source": [
        "#Modelos regressivos\n",
        "\n",
        "![](https://media.giphy.com/media/QmJ3e9So5M9NdNkOGo/giphy.gif)\n",
        "\n",
        "[sklearn.linear_model.LinearRegression](https://scikit-learn.org/stable/modules/generated/sklearn.linear_model.LinearRegression.html)\n",
        "\n",
        "[sklearn.preprocessing.PolynomialFeatures](https://scikit-learn.org/stable/modules/generated/sklearn.preprocessing.PolynomialFeatures.html)\n",
        "\n",
        "\n",
        "###Execícios de Regressão linear\n",
        "\n",
        "**1. Treine uma regressão linear usando a biblioteca sklearn utilizando um dataset de aluguéis de bicicletas**\n",
        "\n",
        "* Calcule os erros utilizando MSE, MAE e R²\n",
        "\n",
        "* Com base nesse resultado, responda: O modelo está bem acurado?\n",
        "\n",
        "Responda: \n",
        "\n",
        "* Qual variável contribui mais para esse modelo? E qual contribui menos?\n",
        "\n",
        "* Retire a variável que contribui menos e treine novamente a regressão. O modelo ficou melhor? "
      ]
    },
    {
      "cell_type": "code",
      "metadata": {
        "id": "UbgyAzixAQ16",
        "colab_type": "code",
        "colab": {}
      },
      "source": [
        "import pandas as pd\n",
        "from sklearn.model_selection import train_test_split\n",
        "from sklearn.linear_model import LinearRegression\n",
        "from sklearn.metrics import r2_score, mean_squared_error, mean_absolute_error"
      ],
      "execution_count": 0,
      "outputs": []
    },
    {
      "cell_type": "code",
      "metadata": {
        "id": "DE--CGKlHqBt",
        "colab_type": "code",
        "colab": {}
      },
      "source": [
        "url = 'https://raw.githubusercontent.com/WoMakersCode/data-science-bootcamp/master/3.%20Modelos%20regressivos/Exercicio_Regressao/day.csv'"
      ],
      "execution_count": 0,
      "outputs": []
    },
    {
      "cell_type": "code",
      "metadata": {
        "id": "BvbO4J2iHvFu",
        "colab_type": "code",
        "colab": {}
      },
      "source": [
        "df = pd.read_csv(url)"
      ],
      "execution_count": 0,
      "outputs": []
    },
    {
      "cell_type": "code",
      "metadata": {
        "id": "uVKsNARXH9DG",
        "colab_type": "code",
        "outputId": "b2871bff-dfff-42f0-907b-d73f6e1eb07e",
        "colab": {
          "base_uri": "https://localhost:8080/",
          "height": 204
        }
      },
      "source": [
        "df.head()"
      ],
      "execution_count": 0,
      "outputs": [
        {
          "output_type": "execute_result",
          "data": {
            "text/html": [
              "<div>\n",
              "<style scoped>\n",
              "    .dataframe tbody tr th:only-of-type {\n",
              "        vertical-align: middle;\n",
              "    }\n",
              "\n",
              "    .dataframe tbody tr th {\n",
              "        vertical-align: top;\n",
              "    }\n",
              "\n",
              "    .dataframe thead th {\n",
              "        text-align: right;\n",
              "    }\n",
              "</style>\n",
              "<table border=\"1\" class=\"dataframe\">\n",
              "  <thead>\n",
              "    <tr style=\"text-align: right;\">\n",
              "      <th></th>\n",
              "      <th>season</th>\n",
              "      <th>yr</th>\n",
              "      <th>mnth</th>\n",
              "      <th>holiday</th>\n",
              "      <th>weekday</th>\n",
              "      <th>workingday</th>\n",
              "      <th>cnt</th>\n",
              "    </tr>\n",
              "  </thead>\n",
              "  <tbody>\n",
              "    <tr>\n",
              "      <th>0</th>\n",
              "      <td>1</td>\n",
              "      <td>0</td>\n",
              "      <td>1</td>\n",
              "      <td>0</td>\n",
              "      <td>6</td>\n",
              "      <td>0</td>\n",
              "      <td>985</td>\n",
              "    </tr>\n",
              "    <tr>\n",
              "      <th>1</th>\n",
              "      <td>1</td>\n",
              "      <td>0</td>\n",
              "      <td>1</td>\n",
              "      <td>0</td>\n",
              "      <td>0</td>\n",
              "      <td>0</td>\n",
              "      <td>801</td>\n",
              "    </tr>\n",
              "    <tr>\n",
              "      <th>2</th>\n",
              "      <td>1</td>\n",
              "      <td>0</td>\n",
              "      <td>1</td>\n",
              "      <td>0</td>\n",
              "      <td>1</td>\n",
              "      <td>1</td>\n",
              "      <td>1349</td>\n",
              "    </tr>\n",
              "    <tr>\n",
              "      <th>3</th>\n",
              "      <td>1</td>\n",
              "      <td>0</td>\n",
              "      <td>1</td>\n",
              "      <td>0</td>\n",
              "      <td>2</td>\n",
              "      <td>1</td>\n",
              "      <td>1562</td>\n",
              "    </tr>\n",
              "    <tr>\n",
              "      <th>4</th>\n",
              "      <td>1</td>\n",
              "      <td>0</td>\n",
              "      <td>1</td>\n",
              "      <td>0</td>\n",
              "      <td>3</td>\n",
              "      <td>1</td>\n",
              "      <td>1600</td>\n",
              "    </tr>\n",
              "  </tbody>\n",
              "</table>\n",
              "</div>"
            ],
            "text/plain": [
              "   season  yr  mnth  holiday  weekday  workingday   cnt\n",
              "0       1   0     1        0        6           0   985\n",
              "1       1   0     1        0        0           0   801\n",
              "2       1   0     1        0        1           1  1349\n",
              "3       1   0     1        0        2           1  1562\n",
              "4       1   0     1        0        3           1  1600"
            ]
          },
          "metadata": {
            "tags": []
          },
          "execution_count": 8
        }
      ]
    },
    {
      "cell_type": "code",
      "metadata": {
        "id": "0aMHUmOlIDi_",
        "colab_type": "code",
        "outputId": "89f43bd7-c079-43f8-e982-70eccad600cf",
        "colab": {
          "base_uri": "https://localhost:8080/",
          "height": 221
        }
      },
      "source": [
        "df.info()"
      ],
      "execution_count": 0,
      "outputs": [
        {
          "output_type": "stream",
          "text": [
            "<class 'pandas.core.frame.DataFrame'>\n",
            "RangeIndex: 731 entries, 0 to 730\n",
            "Data columns (total 7 columns):\n",
            "season        731 non-null int64\n",
            "yr            731 non-null int64\n",
            "mnth          731 non-null int64\n",
            "holiday       731 non-null int64\n",
            "weekday       731 non-null int64\n",
            "workingday    731 non-null int64\n",
            "cnt           731 non-null int64\n",
            "dtypes: int64(7)\n",
            "memory usage: 40.1 KB\n"
          ],
          "name": "stdout"
        }
      ]
    },
    {
      "cell_type": "code",
      "metadata": {
        "id": "TPL8bzl8IGBV",
        "colab_type": "code",
        "colab": {}
      },
      "source": [
        "#separando os dados em 4 dataframes diferentes(X: variáveis independentes, y: variável resposta)\n",
        "#com 30% dos dados sendo usados para teste.\n",
        "X_treino, X_teste, y_treino, y_teste = train_test_split(df.drop(columns='cnt'), df['cnt'], test_size=0.3)"
      ],
      "execution_count": 0,
      "outputs": []
    },
    {
      "cell_type": "code",
      "metadata": {
        "id": "JXPLm5KtKIlX",
        "colab_type": "code",
        "outputId": "adb57ff8-8615-4acf-dce4-207cbf670bbf",
        "colab": {
          "base_uri": "https://localhost:8080/",
          "height": 34
        }
      },
      "source": [
        "lr = LinearRegression() #Criando a regressão\n",
        "lr.fit(X_treino, y_treino) #Ajustando/treinando o modelo"
      ],
      "execution_count": 0,
      "outputs": [
        {
          "output_type": "execute_result",
          "data": {
            "text/plain": [
              "LinearRegression(copy_X=True, fit_intercept=True, n_jobs=None, normalize=False)"
            ]
          },
          "metadata": {
            "tags": []
          },
          "execution_count": 14
        }
      ]
    },
    {
      "cell_type": "code",
      "metadata": {
        "id": "ZO2LHEpVKaCx",
        "colab_type": "code",
        "colab": {}
      },
      "source": [
        "predito = lr.predict(X_teste) #predito é um vetor com todos os valores preditos pelo modelo"
      ],
      "execution_count": 0,
      "outputs": []
    },
    {
      "cell_type": "code",
      "metadata": {
        "id": "hCzDt8HKKoas",
        "colab_type": "code",
        "outputId": "4145bd7b-faf3-4046-d64b-6187ecc66810",
        "colab": {
          "base_uri": "https://localhost:8080/",
          "height": 51
        }
      },
      "source": [
        "predito[:5]"
      ],
      "execution_count": 0,
      "outputs": [
        {
          "output_type": "execute_result",
          "data": {
            "text/plain": [
              "array([4452.728594  , 6053.99916384, 4694.67333777, 4798.33011986,\n",
              "       2671.75048193])"
            ]
          },
          "metadata": {
            "tags": []
          },
          "execution_count": 16
        }
      ]
    },
    {
      "cell_type": "code",
      "metadata": {
        "id": "fuppdR6pLhUy",
        "colab_type": "code",
        "outputId": "088eb5f9-e1e0-4f1d-8383-bd2e89af4ede",
        "colab": {
          "base_uri": "https://localhost:8080/",
          "height": 34
        }
      },
      "source": [
        "print('R²: ', lr.score(X_teste, y_teste))"
      ],
      "execution_count": 0,
      "outputs": [
        {
          "output_type": "stream",
          "text": [
            "R²:  0.4782729039809177\n"
          ],
          "name": "stdout"
        }
      ]
    },
    {
      "cell_type": "code",
      "metadata": {
        "id": "lD4wyIoSMCel",
        "colab_type": "code",
        "outputId": "4f1e12cb-b930-4198-c2e1-815f685b4600",
        "colab": {
          "base_uri": "https://localhost:8080/",
          "height": 34
        }
      },
      "source": [
        "print('MSE: ', mean_squared_error(y_teste, predito))"
      ],
      "execution_count": 0,
      "outputs": [
        {
          "output_type": "stream",
          "text": [
            "MSE:  1983344.6705639032\n"
          ],
          "name": "stdout"
        }
      ]
    },
    {
      "cell_type": "code",
      "metadata": {
        "id": "yA3cxGz7MLbd",
        "colab_type": "code",
        "outputId": "021859c5-d567-404b-a682-e077cb4bd3e6",
        "colab": {
          "base_uri": "https://localhost:8080/",
          "height": 34
        }
      },
      "source": [
        "print('MAE: ', mean_absolute_error(y_teste, predito))"
      ],
      "execution_count": 0,
      "outputs": [
        {
          "output_type": "stream",
          "text": [
            "MAE:  1196.1982546736492\n"
          ],
          "name": "stdout"
        }
      ]
    },
    {
      "cell_type": "code",
      "metadata": {
        "id": "QXJddoiIMTQY",
        "colab_type": "code",
        "outputId": "ab4bef8b-75be-4a05-9003-48c797f141fb",
        "colab": {
          "base_uri": "https://localhost:8080/",
          "height": 51
        }
      },
      "source": [
        "lr.coef_ #coeficientes de cada variável independente"
      ],
      "execution_count": 0,
      "outputs": [
        {
          "output_type": "execute_result",
          "data": {
            "text/plain": [
              "array([1023.39710628, 2131.97057138, -123.52735169, -331.12188971,\n",
              "         98.54682247,  228.25629865])"
            ]
          },
          "metadata": {
            "tags": []
          },
          "execution_count": 20
        }
      ]
    },
    {
      "cell_type": "code",
      "metadata": {
        "id": "U7N3IFQvMZAW",
        "colab_type": "code",
        "outputId": "3eb92831-7551-42c5-d04c-3d2859f8bc64",
        "colab": {
          "base_uri": "https://localhost:8080/",
          "height": 119
        }
      },
      "source": [
        "for i,coef in enumerate(lr.coef_):\n",
        "    print(df.columns[i],' : ', coef)"
      ],
      "execution_count": 0,
      "outputs": [
        {
          "output_type": "stream",
          "text": [
            "season  :  1023.3971062836274\n",
            "yr  :  2131.970571380867\n",
            "mnth  :  -123.52735169173434\n",
            "holiday  :  -331.12188970631894\n",
            "weekday  :  98.54682247317078\n",
            "workingday  :  228.25629864549197\n"
          ],
          "name": "stdout"
        }
      ]
    },
    {
      "cell_type": "markdown",
      "metadata": {
        "id": "plMeUHuMNVM5",
        "colab_type": "text"
      },
      "source": [
        "Variável que contribui menos: valor mais próximo de 0\n",
        "\n",
        "Variável que contribui mais: maior valor"
      ]
    },
    {
      "cell_type": "code",
      "metadata": {
        "id": "WZtXQWWbMpmO",
        "colab_type": "code",
        "outputId": "7998f0cc-0beb-4111-d670-5e378b71c317",
        "colab": {
          "base_uri": "https://localhost:8080/",
          "height": 34
        }
      },
      "source": [
        "lr.intercept_\n"
      ],
      "execution_count": 0,
      "outputs": [
        {
          "output_type": "execute_result",
          "data": {
            "text/plain": [
              "1242.5930278216942"
            ]
          },
          "metadata": {
            "tags": []
          },
          "execution_count": 22
        }
      ]
    },
    {
      "cell_type": "code",
      "metadata": {
        "id": "NhomWfudNmeI",
        "colab_type": "code",
        "colab": {}
      },
      "source": [
        "X_treino, X_teste, y_treino, y_teste = train_test_split(df.drop(columns=['cnt','weekday']), df['cnt'], test_size=0.3) \n",
        "#Retire a variável que contribui menos e treine novamente a regressão. "
      ],
      "execution_count": 0,
      "outputs": []
    },
    {
      "cell_type": "code",
      "metadata": {
        "id": "0LKI5K3NNyrA",
        "colab_type": "code",
        "outputId": "4bbd3eec-9ed3-42f0-8ee7-fa07e817e7d0",
        "colab": {
          "base_uri": "https://localhost:8080/",
          "height": 34
        }
      },
      "source": [
        "lr = LinearRegression()\n",
        "lr.fit(X_treino, y_treino)"
      ],
      "execution_count": 0,
      "outputs": [
        {
          "output_type": "execute_result",
          "data": {
            "text/plain": [
              "LinearRegression(copy_X=True, fit_intercept=True, n_jobs=None, normalize=False)"
            ]
          },
          "metadata": {
            "tags": []
          },
          "execution_count": 24
        }
      ]
    },
    {
      "cell_type": "code",
      "metadata": {
        "id": "_mu174gxN4HZ",
        "colab_type": "code",
        "colab": {}
      },
      "source": [
        "predito = lr.predict(X_teste)"
      ],
      "execution_count": 0,
      "outputs": []
    },
    {
      "cell_type": "code",
      "metadata": {
        "id": "eFTf7onvN7Xa",
        "colab_type": "code",
        "outputId": "4228896a-d34c-479b-e000-804a7a916b71",
        "colab": {
          "base_uri": "https://localhost:8080/",
          "height": 34
        }
      },
      "source": [
        "print('R²: ', lr.score(X_teste, y_teste))"
      ],
      "execution_count": 0,
      "outputs": [
        {
          "output_type": "stream",
          "text": [
            "R²:  0.5141437165368424\n"
          ],
          "name": "stdout"
        }
      ]
    },
    {
      "cell_type": "code",
      "metadata": {
        "id": "H1ID_rnHOBRT",
        "colab_type": "code",
        "outputId": "d039cb2d-8110-4053-f781-5f2090a43e15",
        "colab": {
          "base_uri": "https://localhost:8080/",
          "height": 34
        }
      },
      "source": [
        "print('MSE: ', mean_squared_error(y_teste, predito))"
      ],
      "execution_count": 0,
      "outputs": [
        {
          "output_type": "stream",
          "text": [
            "MSE:  1907971.5842023394\n"
          ],
          "name": "stdout"
        }
      ]
    },
    {
      "cell_type": "code",
      "metadata": {
        "id": "Ju3dGiwQOEW8",
        "colab_type": "code",
        "outputId": "c35da003-a82c-476b-8591-af70b35b304d",
        "colab": {
          "base_uri": "https://localhost:8080/",
          "height": 34
        }
      },
      "source": [
        "\n",
        "print('MAE: ', mean_absolute_error(y_teste, predito))"
      ],
      "execution_count": 0,
      "outputs": [
        {
          "output_type": "stream",
          "text": [
            "MAE:  1167.0632818292847\n"
          ],
          "name": "stdout"
        }
      ]
    },
    {
      "cell_type": "code",
      "metadata": {
        "id": "aB4jUKBSOHb3",
        "colab_type": "code",
        "outputId": "1db6de4d-8b9e-4028-e88d-f0631bef88a5",
        "colab": {
          "base_uri": "https://localhost:8080/",
          "height": 102
        }
      },
      "source": [
        "for i,coef in enumerate(lr.coef_):\n",
        "    print(df.columns[i],' : ', coef)"
      ],
      "execution_count": 0,
      "outputs": [
        {
          "output_type": "stream",
          "text": [
            "season  :  988.5226731693197\n",
            "yr  :  2172.3784735679833\n",
            "mnth  :  -120.31108842875301\n",
            "holiday  :  -402.75747916043\n",
            "weekday  :  256.9167585924692\n"
          ],
          "name": "stdout"
        }
      ]
    },
    {
      "cell_type": "markdown",
      "metadata": {
        "id": "l_1XNUE0YfRU",
        "colab_type": "text"
      },
      "source": [
        "### Utilizando regressão linear para prever a expectativa de vida usando o Índice de Massa Corporal"
      ]
    },
    {
      "cell_type": "markdown",
      "metadata": {
        "id": "dK5NWaMIYrfr",
        "colab_type": "text"
      },
      "source": [
        "Neste exercício, você trabalhará com dados sobre a expectativa média de vida ao nascer e o IMC médio. Os dados são do Gapminder.\n",
        "\n",
        "O arquivo possui três colunas, contendo os seguintes dados:\n",
        "\n",
        "País: \n",
        "* O país em que a pessoa nasceu. \n",
        "\n",
        "Expectativa de vida: \n",
        "* A expectativa média de vida no nascimento de uma pessoa naquele país. \n",
        "\n",
        "IMC:\n",
        "* O IMC médio naquele país.\n",
        "\n",
        "\n",
        "\n",
        "\n",
        "Preveja usando um IMC de 21.07931 e atribua-o à variável laos_life_exp."
      ]
    },
    {
      "cell_type": "code",
      "metadata": {
        "id": "a2BMZLmCZqX9",
        "colab_type": "code",
        "colab": {}
      },
      "source": [
        "import pandas as pd\n",
        "from sklearn.linear_model import LinearRegression"
      ],
      "execution_count": 0,
      "outputs": []
    },
    {
      "cell_type": "code",
      "metadata": {
        "id": "6PprTGLWZw5n",
        "colab_type": "code",
        "colab": {}
      },
      "source": [
        "url = 'https://raw.githubusercontent.com/WoMakersCode/data-science-bootcamp/master/3.%20Modelos%20regressivos/Exercicio_1/bmi_and_life_expectancy.csv'"
      ],
      "execution_count": 0,
      "outputs": []
    },
    {
      "cell_type": "code",
      "metadata": {
        "id": "rvf-UkgoZ5oI",
        "colab_type": "code",
        "colab": {}
      },
      "source": [
        "bmi_life_data = pd.read_csv(url)"
      ],
      "execution_count": 0,
      "outputs": []
    },
    {
      "cell_type": "code",
      "metadata": {
        "id": "RZpmSlVdaBL-",
        "colab_type": "code",
        "outputId": "eca2d8dd-badc-4557-c83a-9c24bb21ec06",
        "colab": {
          "base_uri": "https://localhost:8080/",
          "height": 204
        }
      },
      "source": [
        "bmi_life_data.head()"
      ],
      "execution_count": 0,
      "outputs": [
        {
          "output_type": "execute_result",
          "data": {
            "text/html": [
              "<div>\n",
              "<style scoped>\n",
              "    .dataframe tbody tr th:only-of-type {\n",
              "        vertical-align: middle;\n",
              "    }\n",
              "\n",
              "    .dataframe tbody tr th {\n",
              "        vertical-align: top;\n",
              "    }\n",
              "\n",
              "    .dataframe thead th {\n",
              "        text-align: right;\n",
              "    }\n",
              "</style>\n",
              "<table border=\"1\" class=\"dataframe\">\n",
              "  <thead>\n",
              "    <tr style=\"text-align: right;\">\n",
              "      <th></th>\n",
              "      <th>Country</th>\n",
              "      <th>Life expectancy</th>\n",
              "      <th>BMI</th>\n",
              "    </tr>\n",
              "  </thead>\n",
              "  <tbody>\n",
              "    <tr>\n",
              "      <th>0</th>\n",
              "      <td>Afghanistan</td>\n",
              "      <td>52.8</td>\n",
              "      <td>20.62058</td>\n",
              "    </tr>\n",
              "    <tr>\n",
              "      <th>1</th>\n",
              "      <td>Albania</td>\n",
              "      <td>76.8</td>\n",
              "      <td>26.44657</td>\n",
              "    </tr>\n",
              "    <tr>\n",
              "      <th>2</th>\n",
              "      <td>Algeria</td>\n",
              "      <td>75.5</td>\n",
              "      <td>24.59620</td>\n",
              "    </tr>\n",
              "    <tr>\n",
              "      <th>3</th>\n",
              "      <td>Andorra</td>\n",
              "      <td>84.6</td>\n",
              "      <td>27.63048</td>\n",
              "    </tr>\n",
              "    <tr>\n",
              "      <th>4</th>\n",
              "      <td>Angola</td>\n",
              "      <td>56.7</td>\n",
              "      <td>22.25083</td>\n",
              "    </tr>\n",
              "  </tbody>\n",
              "</table>\n",
              "</div>"
            ],
            "text/plain": [
              "       Country  Life expectancy       BMI\n",
              "0  Afghanistan             52.8  20.62058\n",
              "1      Albania             76.8  26.44657\n",
              "2      Algeria             75.5  24.59620\n",
              "3      Andorra             84.6  27.63048\n",
              "4       Angola             56.7  22.25083"
            ]
          },
          "metadata": {
            "tags": []
          },
          "execution_count": 33
        }
      ]
    },
    {
      "cell_type": "code",
      "metadata": {
        "id": "yFsz4bW7cqYS",
        "colab_type": "code",
        "outputId": "836a4259-8f0a-4e07-b2d6-a6a4f719d443",
        "colab": {
          "base_uri": "https://localhost:8080/",
          "height": 34
        }
      },
      "source": [
        "bmi_life_model = LinearRegression()\n",
        "bmi_life_model.fit(bmi_life_data[['BMI']], bmi_life_data[['Life expectancy']])"
      ],
      "execution_count": 0,
      "outputs": [
        {
          "output_type": "execute_result",
          "data": {
            "text/plain": [
              "LinearRegression(copy_X=True, fit_intercept=True, n_jobs=None, normalize=False)"
            ]
          },
          "metadata": {
            "tags": []
          },
          "execution_count": 34
        }
      ]
    },
    {
      "cell_type": "code",
      "metadata": {
        "id": "EWZ1AllFctUV",
        "colab_type": "code",
        "colab": {}
      },
      "source": [
        "laos_life_exp = bmi_life_model.predict([[21.07931]])\n"
      ],
      "execution_count": 0,
      "outputs": []
    },
    {
      "cell_type": "code",
      "metadata": {
        "id": "8UU8W2-Hcvn7",
        "colab_type": "code",
        "outputId": "85c86dc2-26f5-4a33-c621-0334e39dd804",
        "colab": {
          "base_uri": "https://localhost:8080/",
          "height": 34
        }
      },
      "source": [
        "print(laos_life_exp)\n"
      ],
      "execution_count": 0,
      "outputs": [
        {
          "output_type": "stream",
          "text": [
            "[[60.31564716]]\n"
          ],
          "name": "stdout"
        }
      ]
    },
    {
      "cell_type": "markdown",
      "metadata": {
        "id": "FBo0yNmedvMb",
        "colab_type": "text"
      },
      "source": [
        "# Regressão Polinomial "
      ]
    },
    {
      "cell_type": "markdown",
      "metadata": {
        "id": "SpSHsAjgd922",
        "colab_type": "text"
      },
      "source": [
        "Agora vamos tentar praticar um pouco sobre como implementar regressão polinomial. No arquivo data.csv você poderá encontrar dados gerados para um feature preditora ('Var_X') e a feature de saída ('Var_Y'), seguindo um padrão não-linear.\n",
        "\n",
        "Use a classe PolynomialFeatures do sklearn's para estender a coluna de feature de previsão em várias colunas com recursos polinomiais. Brinque com diferentes graus de polinômio e use o botão Test Run para ver o que melhor se encaixa.\n",
        "\n",
        "Para concluir, siga as etapas abaixo:\n",
        "\n",
        "1. **Carregue os dados**\n",
        "\n",
        "  Os dados estão no arquivo chamado 'data.csv'. Observe que esses dados têm uma linha de cabeçalho. Certifique-se de dividir os dados na feature de previsão em X e na feature de resultado em y. Para X, verifique se ele está em uma matriz bidimensional de 20 linhas por 1 coluna. Pode ser necessário usar a função de remodelação do NumPy para fazer isso.\n",
        "\n",
        "2. **Crie recursos polinomiais**\n",
        "\n",
        "  Crie uma instância da classe PolynomialFeatures do sklearn e atribua-a à variável poly_feat. Preste atenção em como definir o grau de recursos, pois será assim que o exercício será avaliado. Crie os recursos polinomiais usando o método .fit_transform () do objeto PolynomialFeatures. O lado \"apto\" do método considera quantos recursos são necessários na saída e o lado \"transformação\" aplica essas considerações aos dados fornecidos ao método como argumento. Atribua a nova matriz de recurso à variável X_poly.\n",
        "\n",
        "3. **Construa um modelo de regressão polinomial**\n",
        "\n",
        "  Crie um modelo de regressão polinomial combinando a classe LinearRegression do sklearn com os recursos polinomiais. Atribua o modelo de ajuste ao poly_model."
      ]
    },
    {
      "cell_type": "code",
      "metadata": {
        "id": "MmpJen77eIaE",
        "colab_type": "code",
        "colab": {}
      },
      "source": [
        "import numpy as np\n",
        "import pandas as pd\n",
        "from sklearn.linear_model import LinearRegression\n",
        "from sklearn.preprocessing import PolynomialFeatures"
      ],
      "execution_count": 0,
      "outputs": []
    },
    {
      "cell_type": "code",
      "metadata": {
        "id": "HR9vA-5JfK8k",
        "colab_type": "code",
        "colab": {}
      },
      "source": [
        "train_data = pd.read_csv('https://raw.githubusercontent.com/WoMakersCode/data-science-bootcamp/master/3.%20Modelos%20regressivos/Exercicio_3/data.csv')"
      ],
      "execution_count": 0,
      "outputs": []
    },
    {
      "cell_type": "code",
      "metadata": {
        "id": "ilB5WeBwfR9u",
        "colab_type": "code",
        "outputId": "04a94e79-5072-4cc5-afbe-29403a550881",
        "colab": {
          "base_uri": "https://localhost:8080/",
          "height": 204
        }
      },
      "source": [
        "train_data.head()"
      ],
      "execution_count": 129,
      "outputs": [
        {
          "output_type": "execute_result",
          "data": {
            "text/html": [
              "<div>\n",
              "<style scoped>\n",
              "    .dataframe tbody tr th:only-of-type {\n",
              "        vertical-align: middle;\n",
              "    }\n",
              "\n",
              "    .dataframe tbody tr th {\n",
              "        vertical-align: top;\n",
              "    }\n",
              "\n",
              "    .dataframe thead th {\n",
              "        text-align: right;\n",
              "    }\n",
              "</style>\n",
              "<table border=\"1\" class=\"dataframe\">\n",
              "  <thead>\n",
              "    <tr style=\"text-align: right;\">\n",
              "      <th></th>\n",
              "      <th>Var_X</th>\n",
              "      <th>Var_Y</th>\n",
              "    </tr>\n",
              "  </thead>\n",
              "  <tbody>\n",
              "    <tr>\n",
              "      <th>0</th>\n",
              "      <td>-0.33532</td>\n",
              "      <td>6.66854</td>\n",
              "    </tr>\n",
              "    <tr>\n",
              "      <th>1</th>\n",
              "      <td>0.02160</td>\n",
              "      <td>3.86398</td>\n",
              "    </tr>\n",
              "    <tr>\n",
              "      <th>2</th>\n",
              "      <td>-1.19438</td>\n",
              "      <td>5.16161</td>\n",
              "    </tr>\n",
              "    <tr>\n",
              "      <th>3</th>\n",
              "      <td>-0.65046</td>\n",
              "      <td>8.43823</td>\n",
              "    </tr>\n",
              "    <tr>\n",
              "      <th>4</th>\n",
              "      <td>-0.28001</td>\n",
              "      <td>5.57201</td>\n",
              "    </tr>\n",
              "  </tbody>\n",
              "</table>\n",
              "</div>"
            ],
            "text/plain": [
              "     Var_X    Var_Y\n",
              "0 -0.33532  6.66854\n",
              "1  0.02160  3.86398\n",
              "2 -1.19438  5.16161\n",
              "3 -0.65046  8.43823\n",
              "4 -0.28001  5.57201"
            ]
          },
          "metadata": {
            "tags": []
          },
          "execution_count": 129
        }
      ]
    },
    {
      "cell_type": "code",
      "metadata": {
        "id": "CgVVV-1afWGL",
        "colab_type": "code",
        "colab": {}
      },
      "source": [
        "#Crie a variável do preditor e de saída. \n",
        "X = train_data['Var_X'].values.reshape(-1, 1)\n",
        "y = train_data['Var_Y'].values"
      ],
      "execution_count": 0,
      "outputs": []
    },
    {
      "cell_type": "code",
      "metadata": {
        "id": "QAsAA9HRj-Zs",
        "colab_type": "code",
        "outputId": "4d829c87-33a2-46ee-968c-148d2a85b688",
        "colab": {
          "base_uri": "https://localhost:8080/",
          "height": 357
        }
      },
      "source": [
        "X"
      ],
      "execution_count": 131,
      "outputs": [
        {
          "output_type": "execute_result",
          "data": {
            "text/plain": [
              "array([[-0.33532],\n",
              "       [ 0.0216 ],\n",
              "       [-1.19438],\n",
              "       [-0.65046],\n",
              "       [-0.28001],\n",
              "       [ 1.93258],\n",
              "       [ 1.2262 ],\n",
              "       [ 0.74727],\n",
              "       [ 3.32853],\n",
              "       [ 2.87457],\n",
              "       [-1.48662],\n",
              "       [ 0.37629],\n",
              "       [ 1.43918],\n",
              "       [ 0.24183],\n",
              "       [-2.7914 ],\n",
              "       [ 1.08176],\n",
              "       [ 2.81555],\n",
              "       [ 0.54924],\n",
              "       [ 2.36449],\n",
              "       [-1.01925]])"
            ]
          },
          "metadata": {
            "tags": []
          },
          "execution_count": 131
        }
      ]
    },
    {
      "cell_type": "code",
      "metadata": {
        "id": "cZlHYqJPkBlD",
        "colab_type": "code",
        "outputId": "37155a3e-282a-4bec-8f16-62690cb732fc",
        "colab": {
          "base_uri": "https://localhost:8080/",
          "height": 85
        }
      },
      "source": [
        "y"
      ],
      "execution_count": 132,
      "outputs": [
        {
          "output_type": "execute_result",
          "data": {
            "text/plain": [
              "array([  6.66854,   3.86398,   5.16161,   8.43823,   5.57201, -11.1327 ,\n",
              "        -5.31226,  -4.63725,   3.8065 ,  -6.06084,   7.22328,   2.38887,\n",
              "        -7.13415,   2.00412,   4.29794,  -5.86553,  -5.20711,  -3.52863,\n",
              "       -10.16202,   5.31123])"
            ]
          },
          "metadata": {
            "tags": []
          },
          "execution_count": 132
        }
      ]
    },
    {
      "cell_type": "code",
      "metadata": {
        "id": "MOSufgMIgLYP",
        "colab_type": "code",
        "colab": {}
      },
      "source": [
        "#Crie as features polinomiais e depois faça um fit e transform na feature preditora\n",
        "poly_feat = PolynomialFeatures(degree = 4)\n",
        "X_poly = poly_feat.fit_transform(X)"
      ],
      "execution_count": 0,
      "outputs": []
    },
    {
      "cell_type": "code",
      "metadata": {
        "id": "-Zg2qMqQhsgc",
        "colab_type": "code",
        "outputId": "06c323e8-1fdc-45f4-8726-ae393a3a4982",
        "colab": {
          "base_uri": "https://localhost:8080/",
          "height": 697
        }
      },
      "source": [
        "X_poly"
      ],
      "execution_count": 134,
      "outputs": [
        {
          "output_type": "execute_result",
          "data": {
            "text/plain": [
              "array([[ 1.00000000e+00, -3.35320000e-01,  1.12439502e-01,\n",
              "        -3.77032139e-02,  1.26426417e-02],\n",
              "       [ 1.00000000e+00,  2.16000000e-02,  4.66560000e-04,\n",
              "         1.00776960e-05,  2.17678234e-07],\n",
              "       [ 1.00000000e+00, -1.19438000e+00,  1.42654358e+00,\n",
              "        -1.70383513e+00,  2.03502660e+00],\n",
              "       [ 1.00000000e+00, -6.50460000e-01,  4.23098212e-01,\n",
              "        -2.75208463e-01,  1.79012097e-01],\n",
              "       [ 1.00000000e+00, -2.80010000e-01,  7.84056001e-02,\n",
              "        -2.19543521e-02,  6.14743813e-03],\n",
              "       [ 1.00000000e+00,  1.93258000e+00,  3.73486546e+00,\n",
              "         7.21792628e+00,  1.39492200e+01],\n",
              "       [ 1.00000000e+00,  1.22620000e+00,  1.50356644e+00,\n",
              "         1.84367317e+00,  2.26071204e+00],\n",
              "       [ 1.00000000e+00,  7.47270000e-01,  5.58412453e-01,\n",
              "         4.17284874e-01,  3.11824468e-01],\n",
              "       [ 1.00000000e+00,  3.32853000e+00,  1.10791120e+01,\n",
              "         3.68771565e+01,  1.22746722e+02],\n",
              "       [ 1.00000000e+00,  2.87457000e+00,  8.26315268e+00,\n",
              "         2.37530108e+01,  6.82796923e+01],\n",
              "       [ 1.00000000e+00, -1.48662000e+00,  2.21003902e+00,\n",
              "        -3.28548821e+00,  4.88427249e+00],\n",
              "       [ 1.00000000e+00,  3.76290000e-01,  1.41594164e-01,\n",
              "         5.32804680e-02,  2.00489073e-02],\n",
              "       [ 1.00000000e+00,  1.43918000e+00,  2.07123907e+00,\n",
              "         2.98088585e+00,  4.29003130e+00],\n",
              "       [ 1.00000000e+00,  2.41830000e-01,  5.84817489e-02,\n",
              "         1.41426413e-02,  3.42011495e-03],\n",
              "       [ 1.00000000e+00, -2.79140000e+00,  7.79191396e+00,\n",
              "        -2.17503486e+01,  6.07139232e+01],\n",
              "       [ 1.00000000e+00,  1.08176000e+00,  1.17020470e+00,\n",
              "         1.26588063e+00,  1.36937903e+00],\n",
              "       [ 1.00000000e+00,  2.81555000e+00,  7.92732180e+00,\n",
              "         2.23197709e+01,  6.28424310e+01],\n",
              "       [ 1.00000000e+00,  5.49240000e-01,  3.01664578e-01,\n",
              "         1.65686253e-01,  9.10015174e-02],\n",
              "       [ 1.00000000e+00,  2.36449000e+00,  5.59081296e+00,\n",
              "         1.32194213e+01,  3.12571896e+01],\n",
              "       [ 1.00000000e+00, -1.01925000e+00,  1.03887056e+00,\n",
              "        -1.05886882e+00,  1.07925205e+00]])"
            ]
          },
          "metadata": {
            "tags": []
          },
          "execution_count": 134
        }
      ]
    },
    {
      "cell_type": "code",
      "metadata": {
        "id": "NVJqLb0WghAS",
        "colab_type": "code",
        "colab": {}
      },
      "source": [
        "#Crie e dê fit no modelo de regressão polinomial\n",
        "poly_model = LinearRegression(fit_intercept = False).fit(X_poly, y)"
      ],
      "execution_count": 0,
      "outputs": []
    },
    {
      "cell_type": "code",
      "metadata": {
        "id": "jNkI4mWdq4YY",
        "colab_type": "code",
        "outputId": "88351a31-04d2-464c-cb99-d44f37a0fded",
        "colab": {
          "base_uri": "https://localhost:8080/",
          "height": 34
        }
      },
      "source": [
        "print('R²:', poly_model.score(X_poly, y))"
      ],
      "execution_count": 136,
      "outputs": [
        {
          "output_type": "stream",
          "text": [
            "R²: 0.9532581924980009\n"
          ],
          "name": "stdout"
        }
      ]
    },
    {
      "cell_type": "code",
      "metadata": {
        "id": "goU6crJ1KEhS",
        "colab_type": "code",
        "colab": {}
      },
      "source": [
        "import numpy as np\n",
        "import pandas as pd\n",
        "from sklearn.linear_model import LinearRegression\n",
        "from sklearn.preprocessing import PolynomialFeatures\n",
        "from sklearn.model_selection import train_test_split\n",
        "import matplotlib.pyplot as plt\n",
        "%matplotlib inline"
      ],
      "execution_count": 0,
      "outputs": []
    },
    {
      "cell_type": "code",
      "metadata": {
        "id": "jgVJuufOKOed",
        "colab_type": "code",
        "colab": {}
      },
      "source": [
        "train_data = pd.read_csv('https://raw.githubusercontent.com/WoMakersCode/data-science-bootcamp/master/3.%20Modelos%20regressivos/Exercicio_3/data.csv')\n",
        "X = train_data['Var_X'].values.reshape(-1, 1)\n",
        "y = train_data['Var_Y'].values"
      ],
      "execution_count": 0,
      "outputs": []
    },
    {
      "cell_type": "code",
      "metadata": {
        "id": "n2mOLQTPKVGP",
        "colab_type": "code",
        "colab": {}
      },
      "source": [
        "xtrain, xtest, ytrain, ytest = train_test_split(X, y, test_size = 0.2)\n"
      ],
      "execution_count": 0,
      "outputs": []
    },
    {
      "cell_type": "code",
      "metadata": {
        "id": "4rnIWaI6NsPx",
        "colab_type": "code",
        "colab": {
          "base_uri": "https://localhost:8080/",
          "height": 34
        },
        "outputId": "1c641d2d-ebd5-45c7-cf3d-004d66b8f422"
      },
      "source": [
        "X_novo = train_data['Var_X'].values\n",
        "lin_reg = LinearRegression()\n",
        "lin_reg.fit(X, y)"
      ],
      "execution_count": 162,
      "outputs": [
        {
          "output_type": "execute_result",
          "data": {
            "text/plain": [
              "LinearRegression(copy_X=True, fit_intercept=True, n_jobs=None, normalize=False)"
            ]
          },
          "metadata": {
            "tags": []
          },
          "execution_count": 162
        }
      ]
    },
    {
      "cell_type": "code",
      "metadata": {
        "id": "aa9wqVuHKbTI",
        "colab_type": "code",
        "colab": {
          "base_uri": "https://localhost:8080/",
          "height": 295
        },
        "outputId": "09ae13ce-2e5c-42c5-a304-544e2ae55e35"
      },
      "source": [
        "def viz_linear():\n",
        "    plt.scatter(X, y, color='red')\n",
        "    plt.plot(X, lin_reg.predict(X), color='blue')\n",
        "    plt.title('Regressao Linear')\n",
        "    plt.xlabel('X')\n",
        "    plt.ylabel('Y')\n",
        "    plt.show()\n",
        "\n",
        "viz_linear()"
      ],
      "execution_count": 170,
      "outputs": [
        {
          "output_type": "display_data",
          "data": {
            "image/png": "[encoded data removed]",
            "text/plain": [
              "<Figure size 432x288 with 1 Axes>"
            ]
          },
          "metadata": {
            "tags": []
          }
        }
      ]
    },
    {
      "cell_type": "code",
      "metadata": {
        "id": "CEGdoyyPKW-U",
        "colab_type": "code",
        "colab": {}
      },
      "source": [
        "poly_feat = PolynomialFeatures(degree = 4)\n",
        "X_poly = poly_feat.fit_transform(X)"
      ],
      "execution_count": 0,
      "outputs": []
    },
    {
      "cell_type": "code",
      "metadata": {
        "id": "B7WkthM8KZZ5",
        "colab_type": "code",
        "colab": {}
      },
      "source": [
        "ploy_reg = LinearRegression()\n",
        "poly_model = ploy_reg.fit(X_poly, y)"
      ],
      "execution_count": 0,
      "outputs": []
    },
    {
      "cell_type": "code",
      "metadata": {
        "id": "usRiHGtpO_r_",
        "colab_type": "code",
        "colab": {
          "base_uri": "https://localhost:8080/",
          "height": 295
        },
        "outputId": "8373dd9e-5fcb-4dcb-a083-a148f6f797b8"
      },
      "source": [
        "def viz_poly():\n",
        "    plt.scatter(X, y, color='red')\n",
        "    plt.plot(X, ploy_reg.predict(X_poly), color='blue')\n",
        "    plt.title('Regressão Polinomial')\n",
        "    plt.xlabel('X')\n",
        "    plt.ylabel('Y')\n",
        "    plt.show()\n",
        "\n",
        "viz_poly()"
      ],
      "execution_count": 171,
      "outputs": [
        {
          "output_type": "display_data",
          "data": {
            "image/png": "[encoded data removed]",
            "text/plain": [
              "<Figure size 432x288 with 1 Axes>"
            ]
          },
          "metadata": {
            "tags": []
          }
        }
      ]
    },
    {
      "cell_type": "markdown",
      "metadata": {
        "id": "JZYZCTUTP9Bm",
        "colab_type": "text"
      },
      "source": [
        "# Feature Scaling\n",
        "\n",
        "Agora vamos tentar praticar um pouco sobre como normalizar nossos dados. User a classe StanderScaler do Sklearn para estandatizar antes de uma regressão linear.\n",
        "\n",
        "Para concluir, siga as etapas abaixo:\n",
        "\n",
        "1. **Carregue os dados**\n",
        "\n",
        "  Os dados estão no arquivo chamado 'data.csv'. Observe que não há linha de cabeçalho neste arquivo. Divida os dados para que os seis features preditoras (primeiras seis colunas) sejam armazenados em X e o resultado (última coluna) seja armazenado em y.\n",
        "\n",
        "2. **Execute o dimensionamento de recursos nos dados via padronização**\n",
        "\n",
        "  Crie uma instância do StandardScaler do sklearn e atribua a variavel scaler. Calcule os parâmetros de dimensionamento usando o método .fit_transform () na matriz de recursos do preditor, que também retorna as variáveis do preditor em seus valores padronizados. Armazene esses valores padronizados em X_scaled.\n",
        "\n",
        "3. **Ajustar dados usando regressão linear com regularização de Lasso**\n",
        "\n",
        "  Crie uma instância da classe Lasso do sklearn e atribua-a à variável lasso_reg. Você não precisa definir nenhum valor de parâmetro: use os valores padrão para o questionário. Use o método .fit () do objeto Lasso para ajustar o modelo de regressão aos dados. Certifique-se de aplicar o ajuste aos dados padronizados da etapa anterior (X_scaled), não aos dados originais.\n",
        "\n",
        "4. **Inspecione os coeficientes do modelo de regressão**\n",
        "\n",
        "  Obtenha os coeficientes do modelo de regressão de ajuste usando o atributo .coef_ do objeto Lasso. Armazene isso na variável reg_coef: os coeficientes serão impressos"
      ]
    },
    {
      "cell_type": "code",
      "metadata": {
        "id": "v2UG3p1JQP0P",
        "colab_type": "code",
        "colab": {}
      },
      "source": [
        "#Importe as bibliotecas que irá usar\n",
        "import numpy as np\n",
        "import pandas as pd\n",
        "from sklearn.linear_model import LinearRegression\n",
        "from sklearn.preprocessing import StandardScaler\n",
        "import matplotlib.pyplot as plt\n",
        "from sklearn.model_selection import train_test_split\n",
        "from sklearn.metrics import r2_score, mean_squared_error, mean_absolute_error"
      ],
      "execution_count": 0,
      "outputs": []
    },
    {
      "cell_type": "code",
      "metadata": {
        "id": "vc6zwSNBQuLj",
        "colab_type": "code",
        "colab": {}
      },
      "source": [
        "train_data = pd.read_csv('https://raw.githubusercontent.com/WoMakersCode/data-science-bootcamp/master/3.%20Modelos%20regressivos/Exercicio_4/data.csv', header = None)\n",
        "X = train_data.iloc[:,:-1]\n",
        "y = train_data.iloc[:,-1]"
      ],
      "execution_count": 0,
      "outputs": []
    },
    {
      "cell_type": "code",
      "metadata": {
        "id": "oXyybwPpQ9gp",
        "colab_type": "code",
        "colab": {}
      },
      "source": [
        "X_treino, X_teste, y_treino, y_teste = train_test_split(train_data.iloc[:,:-1], train_data.iloc[:,-1], test_size=0.3)"
      ],
      "execution_count": 0,
      "outputs": []
    },
    {
      "cell_type": "code",
      "metadata": {
        "id": "YMOJlxmaQ_u4",
        "colab_type": "code",
        "colab": {}
      },
      "source": [
        "\n",
        "#Crie o objeto de normalização\n",
        "scaler = StandardScaler()"
      ],
      "execution_count": 0,
      "outputs": []
    },
    {
      "cell_type": "code",
      "metadata": {
        "id": "W3UnAmI5RA3p",
        "colab_type": "code",
        "colab": {}
      },
      "source": [
        "#Crie e de fit do objeto de normalização\n",
        "X_scaled = scaler.fit_transform(X_treino)"
      ],
      "execution_count": 0,
      "outputs": []
    },
    {
      "cell_type": "code",
      "metadata": {
        "id": "anTbMPLiZGvU",
        "colab_type": "code",
        "colab": {}
      },
      "source": [
        "lr = LinearRegression()"
      ],
      "execution_count": 0,
      "outputs": []
    },
    {
      "cell_type": "code",
      "metadata": {
        "id": "Xeu5doFqRGUI",
        "colab_type": "code",
        "colab": {
          "base_uri": "https://localhost:8080/",
          "height": 34
        },
        "outputId": "359205c4-f65e-4d19-9c40-25a1312298d3"
      },
      "source": [
        "#Dê um fit no seu modelo\n",
        "lr.fit(X_scaled, y_treino)"
      ],
      "execution_count": 207,
      "outputs": [
        {
          "output_type": "execute_result",
          "data": {
            "text/plain": [
              "LinearRegression(copy_X=True, fit_intercept=True, n_jobs=None, normalize=False)"
            ]
          },
          "metadata": {
            "tags": []
          },
          "execution_count": 207
        }
      ]
    },
    {
      "cell_type": "code",
      "metadata": {
        "id": "LqN8ZJ5GRIW9",
        "colab_type": "code",
        "colab": {
          "base_uri": "https://localhost:8080/",
          "height": 51
        },
        "outputId": "c3ad2a7c-70be-49e0-9329-ec6c6b94c296"
      },
      "source": [
        "#Pegue e imprima os coeficientes do seu modelo de regressão.\n",
        "reg_coef = lr.coef_\n",
        "print(reg_coef)"
      ],
      "execution_count": 208,
      "outputs": [
        {
          "output_type": "stream",
          "text": [
            "[ -0.05406792   4.96636333   9.67874028  -0.68075741 -11.96567766\n",
            "   1.77142283]\n"
          ],
          "name": "stdout"
        }
      ]
    },
    {
      "cell_type": "code",
      "metadata": {
        "id": "tFb12EtvRQsV",
        "colab_type": "code",
        "colab": {}
      },
      "source": [
        "predito = lr.predict(X_teste)\n"
      ],
      "execution_count": 0,
      "outputs": []
    },
    {
      "cell_type": "code",
      "metadata": {
        "id": "b-6088vkRU8w",
        "colab_type": "code",
        "colab": {
          "base_uri": "https://localhost:8080/",
          "height": 51
        },
        "outputId": "1e9d0e0a-f1a7-4813-803e-dcb297ee7114"
      },
      "source": [
        "predito[:5]\n"
      ],
      "execution_count": 210,
      "outputs": [
        {
          "output_type": "execute_result",
          "data": {
            "text/plain": [
              "array([ 72.79077263, -68.95833579,  64.98387668, -51.14973212,\n",
              "       -60.86737071])"
            ]
          },
          "metadata": {
            "tags": []
          },
          "execution_count": 210
        }
      ]
    },
    {
      "cell_type": "code",
      "metadata": {
        "id": "DD1_QB1jRV2w",
        "colab_type": "code",
        "colab": {
          "base_uri": "https://localhost:8080/",
          "height": 34
        },
        "outputId": "41c29cdc-961f-412b-e514-696d80f0947c"
      },
      "source": [
        "print('R²: ', lr.score(X_teste, y_teste))"
      ],
      "execution_count": 211,
      "outputs": [
        {
          "output_type": "stream",
          "text": [
            "R²:  -5.289588629487875\n"
          ],
          "name": "stdout"
        }
      ]
    },
    {
      "cell_type": "code",
      "metadata": {
        "id": "UhbPEH8rRapv",
        "colab_type": "code",
        "colab": {
          "base_uri": "https://localhost:8080/",
          "height": 34
        },
        "outputId": "c87724b6-754d-481a-b652-9eb62c82229c"
      },
      "source": [
        "print('MSE: ', mean_squared_error(y_teste, predito))"
      ],
      "execution_count": 212,
      "outputs": [
        {
          "output_type": "stream",
          "text": [
            "MSE:  2008.6290402994068\n"
          ],
          "name": "stdout"
        }
      ]
    },
    {
      "cell_type": "code",
      "metadata": {
        "id": "vC_zuJVARbjr",
        "colab_type": "code",
        "colab": {
          "base_uri": "https://localhost:8080/",
          "height": 34
        },
        "outputId": "736ab7a2-1899-4290-a10d-4b4db47a6d2d"
      },
      "source": [
        "print('MAE: ', mean_absolute_error(y_teste, predito))"
      ],
      "execution_count": 213,
      "outputs": [
        {
          "output_type": "stream",
          "text": [
            "MAE:  36.866724288903114\n"
          ],
          "name": "stdout"
        }
      ]
    },
    {
      "cell_type": "code",
      "metadata": {
        "id": "szTSKGfDRdea",
        "colab_type": "code",
        "colab": {
          "base_uri": "https://localhost:8080/",
          "height": 51
        },
        "outputId": "030aa7ad-660e-4725-fd6c-826884f9ad9e"
      },
      "source": [
        "lr.coef_\n"
      ],
      "execution_count": 214,
      "outputs": [
        {
          "output_type": "execute_result",
          "data": {
            "text/plain": [
              "array([ -0.05406792,   4.96636333,   9.67874028,  -0.68075741,\n",
              "       -11.96567766,   1.77142283])"
            ]
          },
          "metadata": {
            "tags": []
          },
          "execution_count": 214
        }
      ]
    },
    {
      "cell_type": "code",
      "metadata": {
        "id": "dXyOQwnmRyGL",
        "colab_type": "code",
        "colab": {
          "base_uri": "https://localhost:8080/",
          "height": 119
        },
        "outputId": "2e6a3dfc-8ba2-43e9-a0a8-5e09a2971f86"
      },
      "source": [
        "for i,coef in enumerate(lr.coef_):\n",
        "    print(train_data.columns[i],' : ', coef)"
      ],
      "execution_count": 215,
      "outputs": [
        {
          "output_type": "stream",
          "text": [
            "0  :  -0.05406791989265848\n",
            "1  :  4.966363326956316\n",
            "2  :  9.678740278624716\n",
            "3  :  -0.680757405701423\n",
            "4  :  -11.965677658765557\n",
            "5  :  1.7714228260832319\n"
          ],
          "name": "stdout"
        }
      ]
    }
  ]
}