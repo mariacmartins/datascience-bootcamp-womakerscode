{
  "nbformat": 4,
  "nbformat_minor": 0,
  "metadata": {
    "colab": {
      "name": "Ensemble WoMakersCode.ipynb",
      "provenance": [],
      "include_colab_link": true
    },
    "kernelspec": {
      "name": "python3",
      "display_name": "Python 3"
    }
  },
  "cells": [
    {
      "cell_type": "markdown",
      "metadata": {
        "id": "view-in-github",
        "colab_type": "text"
      },
      "source": [
        "<a href=\"https://colab.research.google.com/github/mariacmartins/datascience-bootcamp-womakerscode/blob/master/Ensemble_WoMakersCode.ipynb\" target=\"_parent\"><img src=\"https://colab.research.google.com/assets/colab-badge.svg\" alt=\"Open In Colab\"/></a>"
      ]
    },
    {
      "cell_type": "markdown",
      "metadata": {
        "id": "tXHKZJ_-GUNY",
        "colab_type": "text"
      },
      "source": [
        "## **Ensemble & Random Forest**"
      ]
    },
    {
      "cell_type": "code",
      "metadata": {
        "id": "cO1vzGozEt5H",
        "colab_type": "code",
        "colab": {}
      },
      "source": [
        "\n",
        "import warnings\n",
        "warnings.filterwarnings('ignore')\n",
        "\n",
        "import pandas as pd\n",
        "import numpy as np\n",
        "from sklearn.preprocessing import LabelEncoder\n",
        "from sklearn.model_selection import train_test_split\n",
        "from sklearn.linear_model import LogisticRegression\n",
        "from sklearn.neighbors import KNeighborsClassifier\n",
        "from sklearn.tree import DecisionTreeClassifier\n",
        "from sklearn.ensemble import RandomForestClassifier\n",
        "from sklearn.ensemble import VotingClassifier\n",
        "from sklearn.metrics import accuracy_score, precision_score, recall_score\n",
        "import matplotlib.pyplot as plt\n",
        "%matplotlib inline"
      ],
      "execution_count": 0,
      "outputs": []
    },
    {
      "cell_type": "markdown",
      "metadata": {
        "id": "hYhvFervGgbI",
        "colab_type": "text"
      },
      "source": [
        "Criaremos um modelo para predizer pessoas que devem procurar tratamento para saúde mental em empresas de tecnologia.\n",
        "\n",
        "Vamos ler os dados e analisar o dataset:"
      ]
    },
    {
      "cell_type": "code",
      "metadata": {
        "id": "plC5cjiGGHTv",
        "colab_type": "code",
        "colab": {}
      },
      "source": [
        "df = pd.read_csv('https://raw.githubusercontent.com/WoMakersCode/data-science-bootcamp/master/5.%20Algoritmos%20de%20Machine%20Learning%20e%20aplica%C3%A7%C3%B5es%20em%20larga%20escala/data/survey.csv')"
      ],
      "execution_count": 0,
      "outputs": []
    },
    {
      "cell_type": "markdown",
      "metadata": {
        "id": "w4D9nPBTGkmw",
        "colab_type": "text"
      },
      "source": [
        "Dataset retirado do kaggle, porém foram filtrados apenas os países Canada, United Kingdom e United States para facilitar a análise\n",
        "\n"
      ]
    },
    {
      "cell_type": "code",
      "metadata": {
        "id": "7OVBqlkLGOWR",
        "colab_type": "code",
        "colab": {
          "base_uri": "https://localhost:8080/",
          "height": 394
        },
        "outputId": "c683301b-08de-4282-9d4f-7efe10a21968"
      },
      "source": [
        "df.head()"
      ],
      "execution_count": 3,
      "outputs": [
        {
          "output_type": "execute_result",
          "data": {
            "text/html": [
              "<div>\n",
              "<style scoped>\n",
              "    .dataframe tbody tr th:only-of-type {\n",
              "        vertical-align: middle;\n",
              "    }\n",
              "\n",
              "    .dataframe tbody tr th {\n",
              "        vertical-align: top;\n",
              "    }\n",
              "\n",
              "    .dataframe thead th {\n",
              "        text-align: right;\n",
              "    }\n",
              "</style>\n",
              "<table border=\"1\" class=\"dataframe\">\n",
              "  <thead>\n",
              "    <tr style=\"text-align: right;\">\n",
              "      <th></th>\n",
              "      <th>Timestamp</th>\n",
              "      <th>Age</th>\n",
              "      <th>Gender</th>\n",
              "      <th>Country</th>\n",
              "      <th>state</th>\n",
              "      <th>self_employed</th>\n",
              "      <th>family_history</th>\n",
              "      <th>treatment</th>\n",
              "      <th>work_interfere</th>\n",
              "      <th>no_employees</th>\n",
              "      <th>remote_work</th>\n",
              "      <th>tech_company</th>\n",
              "      <th>benefits</th>\n",
              "      <th>care_options</th>\n",
              "      <th>wellness_program</th>\n",
              "      <th>seek_help</th>\n",
              "      <th>anonymity</th>\n",
              "      <th>leave</th>\n",
              "      <th>mental_health_consequence</th>\n",
              "      <th>phys_health_consequence</th>\n",
              "      <th>coworkers</th>\n",
              "      <th>supervisor</th>\n",
              "      <th>mental_health_interview</th>\n",
              "      <th>phys_health_interview</th>\n",
              "      <th>mental_vs_physical</th>\n",
              "      <th>obs_consequence</th>\n",
              "      <th>comments</th>\n",
              "    </tr>\n",
              "  </thead>\n",
              "  <tbody>\n",
              "    <tr>\n",
              "      <th>0</th>\n",
              "      <td>2014-08-27 11:29:31</td>\n",
              "      <td>37</td>\n",
              "      <td>Female</td>\n",
              "      <td>United States</td>\n",
              "      <td>IL</td>\n",
              "      <td>NaN</td>\n",
              "      <td>No</td>\n",
              "      <td>Yes</td>\n",
              "      <td>Often</td>\n",
              "      <td>6-25</td>\n",
              "      <td>No</td>\n",
              "      <td>Yes</td>\n",
              "      <td>Yes</td>\n",
              "      <td>Not sure</td>\n",
              "      <td>No</td>\n",
              "      <td>Yes</td>\n",
              "      <td>Yes</td>\n",
              "      <td>Somewhat easy</td>\n",
              "      <td>No</td>\n",
              "      <td>No</td>\n",
              "      <td>Some of them</td>\n",
              "      <td>Yes</td>\n",
              "      <td>No</td>\n",
              "      <td>Maybe</td>\n",
              "      <td>Yes</td>\n",
              "      <td>No</td>\n",
              "      <td>NaN</td>\n",
              "    </tr>\n",
              "    <tr>\n",
              "      <th>1</th>\n",
              "      <td>2014-08-27 11:29:37</td>\n",
              "      <td>44</td>\n",
              "      <td>M</td>\n",
              "      <td>United States</td>\n",
              "      <td>IN</td>\n",
              "      <td>NaN</td>\n",
              "      <td>No</td>\n",
              "      <td>No</td>\n",
              "      <td>Rarely</td>\n",
              "      <td>More than 1000</td>\n",
              "      <td>No</td>\n",
              "      <td>No</td>\n",
              "      <td>Don't know</td>\n",
              "      <td>No</td>\n",
              "      <td>Don't know</td>\n",
              "      <td>Don't know</td>\n",
              "      <td>Don't know</td>\n",
              "      <td>Don't know</td>\n",
              "      <td>Maybe</td>\n",
              "      <td>No</td>\n",
              "      <td>No</td>\n",
              "      <td>No</td>\n",
              "      <td>No</td>\n",
              "      <td>No</td>\n",
              "      <td>Don't know</td>\n",
              "      <td>No</td>\n",
              "      <td>NaN</td>\n",
              "    </tr>\n",
              "    <tr>\n",
              "      <th>2</th>\n",
              "      <td>2014-08-27 11:29:44</td>\n",
              "      <td>32</td>\n",
              "      <td>Male</td>\n",
              "      <td>Canada</td>\n",
              "      <td>NaN</td>\n",
              "      <td>NaN</td>\n",
              "      <td>No</td>\n",
              "      <td>No</td>\n",
              "      <td>Rarely</td>\n",
              "      <td>6-25</td>\n",
              "      <td>No</td>\n",
              "      <td>Yes</td>\n",
              "      <td>No</td>\n",
              "      <td>No</td>\n",
              "      <td>No</td>\n",
              "      <td>No</td>\n",
              "      <td>Don't know</td>\n",
              "      <td>Somewhat difficult</td>\n",
              "      <td>No</td>\n",
              "      <td>No</td>\n",
              "      <td>Yes</td>\n",
              "      <td>Yes</td>\n",
              "      <td>Yes</td>\n",
              "      <td>Yes</td>\n",
              "      <td>No</td>\n",
              "      <td>No</td>\n",
              "      <td>NaN</td>\n",
              "    </tr>\n",
              "    <tr>\n",
              "      <th>3</th>\n",
              "      <td>2014-08-27 11:29:46</td>\n",
              "      <td>31</td>\n",
              "      <td>Male</td>\n",
              "      <td>United Kingdom</td>\n",
              "      <td>NaN</td>\n",
              "      <td>NaN</td>\n",
              "      <td>Yes</td>\n",
              "      <td>Yes</td>\n",
              "      <td>Often</td>\n",
              "      <td>26-100</td>\n",
              "      <td>No</td>\n",
              "      <td>Yes</td>\n",
              "      <td>No</td>\n",
              "      <td>Yes</td>\n",
              "      <td>No</td>\n",
              "      <td>No</td>\n",
              "      <td>No</td>\n",
              "      <td>Somewhat difficult</td>\n",
              "      <td>Yes</td>\n",
              "      <td>Yes</td>\n",
              "      <td>Some of them</td>\n",
              "      <td>No</td>\n",
              "      <td>Maybe</td>\n",
              "      <td>Maybe</td>\n",
              "      <td>No</td>\n",
              "      <td>Yes</td>\n",
              "      <td>NaN</td>\n",
              "    </tr>\n",
              "    <tr>\n",
              "      <th>4</th>\n",
              "      <td>2014-08-27 11:30:22</td>\n",
              "      <td>31</td>\n",
              "      <td>Male</td>\n",
              "      <td>United States</td>\n",
              "      <td>TX</td>\n",
              "      <td>NaN</td>\n",
              "      <td>No</td>\n",
              "      <td>No</td>\n",
              "      <td>Never</td>\n",
              "      <td>100-500</td>\n",
              "      <td>Yes</td>\n",
              "      <td>Yes</td>\n",
              "      <td>Yes</td>\n",
              "      <td>No</td>\n",
              "      <td>Don't know</td>\n",
              "      <td>Don't know</td>\n",
              "      <td>Don't know</td>\n",
              "      <td>Don't know</td>\n",
              "      <td>No</td>\n",
              "      <td>No</td>\n",
              "      <td>Some of them</td>\n",
              "      <td>Yes</td>\n",
              "      <td>Yes</td>\n",
              "      <td>Yes</td>\n",
              "      <td>Don't know</td>\n",
              "      <td>No</td>\n",
              "      <td>NaN</td>\n",
              "    </tr>\n",
              "  </tbody>\n",
              "</table>\n",
              "</div>"
            ],
            "text/plain": [
              "             Timestamp  Age  Gender  ... mental_vs_physical obs_consequence comments\n",
              "0  2014-08-27 11:29:31   37  Female  ...                Yes              No      NaN\n",
              "1  2014-08-27 11:29:37   44       M  ...         Don't know              No      NaN\n",
              "2  2014-08-27 11:29:44   32    Male  ...                 No              No      NaN\n",
              "3  2014-08-27 11:29:46   31    Male  ...                 No             Yes      NaN\n",
              "4  2014-08-27 11:30:22   31    Male  ...         Don't know              No      NaN\n",
              "\n",
              "[5 rows x 27 columns]"
            ]
          },
          "metadata": {
            "tags": []
          },
          "execution_count": 3
        }
      ]
    },
    {
      "cell_type": "code",
      "metadata": {
        "id": "4-a8qusWGzK4",
        "colab_type": "code",
        "colab": {
          "base_uri": "https://localhost:8080/",
          "height": 561
        },
        "outputId": "de1791e4-a872-45b7-ff92-ccb7f4b4c34b"
      },
      "source": [
        "df.info()"
      ],
      "execution_count": 4,
      "outputs": [
        {
          "output_type": "stream",
          "text": [
            "<class 'pandas.core.frame.DataFrame'>\n",
            "RangeIndex: 1008 entries, 0 to 1007\n",
            "Data columns (total 27 columns):\n",
            "Timestamp                    1008 non-null object\n",
            "Age                          1008 non-null int64\n",
            "Gender                       1008 non-null object\n",
            "Country                      1008 non-null object\n",
            "state                        740 non-null object\n",
            "self_employed                991 non-null object\n",
            "family_history               1008 non-null object\n",
            "treatment                    1008 non-null object\n",
            "work_interfere               811 non-null object\n",
            "no_employees                 1008 non-null object\n",
            "remote_work                  1008 non-null object\n",
            "tech_company                 1008 non-null object\n",
            "benefits                     1008 non-null object\n",
            "care_options                 1008 non-null object\n",
            "wellness_program             1008 non-null object\n",
            "seek_help                    1008 non-null object\n",
            "anonymity                    1008 non-null object\n",
            "leave                        1008 non-null object\n",
            "mental_health_consequence    1008 non-null object\n",
            "phys_health_consequence      1008 non-null object\n",
            "coworkers                    1008 non-null object\n",
            "supervisor                   1008 non-null object\n",
            "mental_health_interview      1008 non-null object\n",
            "phys_health_interview        1008 non-null object\n",
            "mental_vs_physical           1008 non-null object\n",
            "obs_consequence              1008 non-null object\n",
            "comments                     133 non-null object\n",
            "dtypes: int64(1), object(26)\n",
            "memory usage: 212.8+ KB\n"
          ],
          "name": "stdout"
        }
      ]
    },
    {
      "cell_type": "markdown",
      "metadata": {
        "id": "a2RCvFa3HF25",
        "colab_type": "text"
      },
      "source": [
        "Vemos várias variáveis como objetos e vários NaNs, vamos tratá-los."
      ]
    },
    {
      "cell_type": "code",
      "metadata": {
        "id": "-drfRh_BHEbx",
        "colab_type": "code",
        "colab": {}
      },
      "source": [
        "del df['Timestamp']\n"
      ],
      "execution_count": 0,
      "outputs": []
    },
    {
      "cell_type": "code",
      "metadata": {
        "id": "n8olQ9eTHKzZ",
        "colab_type": "code",
        "colab": {
          "base_uri": "https://localhost:8080/",
          "height": 119
        },
        "outputId": "851fa143-72f2-4e04-8c72-3ef540258e99"
      },
      "source": [
        "df.loc[df['comments'].notnull(), 'comments'].head()\n"
      ],
      "execution_count": 6,
      "outputs": [
        {
          "output_type": "execute_result",
          "data": {
            "text/plain": [
              "12    I'm not on my company's health insurance which...\n",
              "14    I have chronic low-level neurological issues t...\n",
              "15    My company does provide healthcare but not to ...\n",
              "22                  Relatively new job. Ask again later\n",
              "23    Sometimes I think  about using drugs for my me...\n",
              "Name: comments, dtype: object"
            ]
          },
          "metadata": {
            "tags": []
          },
          "execution_count": 6
        }
      ]
    },
    {
      "cell_type": "code",
      "metadata": {
        "id": "FDPXYv78HVUV",
        "colab_type": "code",
        "colab": {}
      },
      "source": [
        "del df['comments']\n"
      ],
      "execution_count": 0,
      "outputs": []
    },
    {
      "cell_type": "code",
      "metadata": {
        "id": "NTHS6RksHXRT",
        "colab_type": "code",
        "colab": {
          "base_uri": "https://localhost:8080/",
          "height": 102
        },
        "outputId": "bd064a0c-ed91-42e0-dc65-d18856bb258a"
      },
      "source": [
        "df['work_interfere'].value_counts()\n"
      ],
      "execution_count": 8,
      "outputs": [
        {
          "output_type": "execute_result",
          "data": {
            "text/plain": [
              "Sometimes    389\n",
              "Never        173\n",
              "Rarely       139\n",
              "Often        110\n",
              "Name: work_interfere, dtype: int64"
            ]
          },
          "metadata": {
            "tags": []
          },
          "execution_count": 8
        }
      ]
    },
    {
      "cell_type": "code",
      "metadata": {
        "id": "vWraAlYFHbNC",
        "colab_type": "code",
        "colab": {}
      },
      "source": [
        "df['work_interfere'].fillna('DontKnow', inplace=True)\n"
      ],
      "execution_count": 0,
      "outputs": []
    },
    {
      "cell_type": "code",
      "metadata": {
        "id": "PjfE8PauHdvD",
        "colab_type": "code",
        "colab": {
          "base_uri": "https://localhost:8080/",
          "height": 68
        },
        "outputId": "367218e1-3350-43b8-e585-b37df6359fae"
      },
      "source": [
        "df['self_employed'].value_counts()\n"
      ],
      "execution_count": 10,
      "outputs": [
        {
          "output_type": "execute_result",
          "data": {
            "text/plain": [
              "No     896\n",
              "Yes     95\n",
              "Name: self_employed, dtype: int64"
            ]
          },
          "metadata": {
            "tags": []
          },
          "execution_count": 10
        }
      ]
    },
    {
      "cell_type": "code",
      "metadata": {
        "id": "tfXIUVv-Hrc7",
        "colab_type": "code",
        "colab": {}
      },
      "source": [
        "df['self_employed'].fillna('No', inplace=True)\n"
      ],
      "execution_count": 0,
      "outputs": []
    },
    {
      "cell_type": "code",
      "metadata": {
        "id": "T-T2VAX8HtP1",
        "colab_type": "code",
        "colab": {
          "base_uri": "https://localhost:8080/",
          "height": 799
        },
        "outputId": "1303d3a5-d856-45cb-a728-ed103b202fba"
      },
      "source": [
        "df['state'].value_counts()\n"
      ],
      "execution_count": 12,
      "outputs": [
        {
          "output_type": "execute_result",
          "data": {
            "text/plain": [
              "CA    138\n",
              "WA     70\n",
              "NY     56\n",
              "TN     45\n",
              "TX     44\n",
              "OH     30\n",
              "OR     29\n",
              "PA     29\n",
              "IL     28\n",
              "IN     27\n",
              "MI     22\n",
              "MN     21\n",
              "MA     20\n",
              "FL     15\n",
              "VA     14\n",
              "NC     14\n",
              "MO     12\n",
              "GA     12\n",
              "WI     12\n",
              "UT     10\n",
              "CO      9\n",
              "AL      8\n",
              "MD      7\n",
              "AZ      7\n",
              "NJ      6\n",
              "OK      6\n",
              "SC      5\n",
              "KY      5\n",
              "CT      4\n",
              "IA      4\n",
              "DC      4\n",
              "VT      3\n",
              "KS      3\n",
              "SD      3\n",
              "NH      3\n",
              "NV      3\n",
              "NM      2\n",
              "WY      2\n",
              "NE      2\n",
              "ID      1\n",
              "LA      1\n",
              "MS      1\n",
              "ME      1\n",
              "WV      1\n",
              "RI      1\n",
              "Name: state, dtype: int64"
            ]
          },
          "metadata": {
            "tags": []
          },
          "execution_count": 12
        }
      ]
    },
    {
      "cell_type": "code",
      "metadata": {
        "id": "pqS7h6ApHwS2",
        "colab_type": "code",
        "colab": {}
      },
      "source": [
        "del df['state']\n"
      ],
      "execution_count": 0,
      "outputs": []
    },
    {
      "cell_type": "markdown",
      "metadata": {
        "id": "vw3O9KqXH67k",
        "colab_type": "text"
      },
      "source": [
        "Variáveis categoricas"
      ]
    },
    {
      "cell_type": "code",
      "metadata": {
        "id": "Djh5HSOFH_pm",
        "colab_type": "code",
        "colab": {
          "base_uri": "https://localhost:8080/",
          "height": 170
        },
        "outputId": "a59e38ce-5c86-409e-b804-e1a8cbc0f430"
      },
      "source": [
        "df['Gender'].unique()\n"
      ],
      "execution_count": 14,
      "outputs": [
        {
          "output_type": "execute_result",
          "data": {
            "text/plain": [
              "array(['Female', 'M', 'Male', 'female', 'male', 'm', 'Male-ish', 'maile',\n",
              "       'Trans-female', 'Cis Female', 'F', 'Cis Male', 'Woman', 'f',\n",
              "       'Male (CIS)', 'queer/she/they', 'non-binary', 'Femake', 'woman',\n",
              "       'Make', 'Nah', 'Enby', 'Genderqueer', 'Female ', 'Androgyne',\n",
              "       'Agender', 'cis-female/femme', 'Guy (-ish) ^_^',\n",
              "       'male leaning androgynous', 'Male ', 'Man', 'Trans woman', 'msle',\n",
              "       'Neuter', 'Female (trans)', 'Female (cis)', 'Mail', 'cis male',\n",
              "       'p', 'femail', 'Cis Man',\n",
              "       'ostensibly male, unsure what that really means'], dtype=object)"
            ]
          },
          "metadata": {
            "tags": []
          },
          "execution_count": 14
        }
      ]
    },
    {
      "cell_type": "code",
      "metadata": {
        "id": "7UyXWlVUIEoM",
        "colab_type": "code",
        "colab": {}
      },
      "source": [
        "male_str = [\"male\", \"m\", \"male-ish\", \"maile\", \"mal\", \"male (cis)\", \"make\", \"male \", \"man\",\"msle\", \"mail\", \"malr\",\"cis man\", \"Cis Male\", \"cis male\"]\n",
        "trans_str = [\"trans-female\", \"something kinda male?\", \"queer/she/they\", \"non-binary\",\"nah\", \"all\", \"enby\", \"fluid\", \"genderqueer\", \"androgyne\", \"agender\", \"male leaning androgynous\", \"guy (-ish) ^_^\", \"trans woman\", \"neuter\", \"female (trans)\", \"queer\", \"ostensibly male, unsure what that really means\"]           \n",
        "female_str = [\"cis female\", \"f\", \"female\", \"woman\",  \"femake\", \"female \",\"cis-female/femme\", \"female (cis)\", \"femail\"]\n",
        "\n",
        "for (row, col) in df.iterrows():\n",
        "\n",
        "    if str.lower(col.Gender) in male_str:\n",
        "        df['Gender'].replace(to_replace=col.Gender, value='male', inplace=True)\n",
        "\n",
        "    if str.lower(col.Gender) in female_str:\n",
        "        df['Gender'].replace(to_replace=col.Gender, value='female', inplace=True)\n",
        "\n",
        "    if str.lower(col.Gender) in trans_str:\n",
        "        df['Gender'].replace(to_replace=col.Gender, value='trans', inplace=True)"
      ],
      "execution_count": 0,
      "outputs": []
    },
    {
      "cell_type": "code",
      "metadata": {
        "id": "z7kRznNVIQDJ",
        "colab_type": "code",
        "colab": {
          "base_uri": "https://localhost:8080/",
          "height": 102
        },
        "outputId": "3d1de677-3ad7-472e-b82a-706272272cb0"
      },
      "source": [
        "df['Gender'].value_counts()\n"
      ],
      "execution_count": 17,
      "outputs": [
        {
          "output_type": "execute_result",
          "data": {
            "text/plain": [
              "male      772\n",
              "female    220\n",
              "trans      15\n",
              "p           1\n",
              "Name: Gender, dtype: int64"
            ]
          },
          "metadata": {
            "tags": []
          },
          "execution_count": 17
        }
      ]
    },
    {
      "cell_type": "code",
      "metadata": {
        "id": "XpcgHcmtIcHP",
        "colab_type": "code",
        "colab": {}
      },
      "source": [
        "df = df[df['Gender']!='p']\n"
      ],
      "execution_count": 0,
      "outputs": []
    },
    {
      "cell_type": "code",
      "metadata": {
        "id": "_xeK3S_jIhQV",
        "colab_type": "code",
        "colab": {
          "base_uri": "https://localhost:8080/",
          "height": 34
        },
        "outputId": "c95c5823-fc40-4966-95e3-282a4e6e0e6a"
      },
      "source": [
        "df['Gender'].unique()\n"
      ],
      "execution_count": 19,
      "outputs": [
        {
          "output_type": "execute_result",
          "data": {
            "text/plain": [
              "array(['female', 'male', 'trans'], dtype=object)"
            ]
          },
          "metadata": {
            "tags": []
          },
          "execution_count": 19
        }
      ]
    },
    {
      "cell_type": "markdown",
      "metadata": {
        "id": "ASkNZ_clIpG1",
        "colab_type": "text"
      },
      "source": [
        "Vamos ver quantos países temos:\n",
        "\n"
      ]
    },
    {
      "cell_type": "code",
      "metadata": {
        "id": "y6ffzxf5IrTc",
        "colab_type": "code",
        "colab": {
          "base_uri": "https://localhost:8080/",
          "height": 448
        },
        "outputId": "ebe0dc59-61b9-4734-f81a-4017809c7501"
      },
      "source": [
        "df['Country'].value_counts().plot(kind='barh', figsize=(10,7),\n",
        "                                        color=\"coral\", fontsize=13)"
      ],
      "execution_count": 20,
      "outputs": [
        {
          "output_type": "execute_result",
          "data": {
            "text/plain": [
              "<matplotlib.axes._subplots.AxesSubplot at 0x7f1a277691d0>"
            ]
          },
          "metadata": {
            "tags": []
          },
          "execution_count": 20
        },
        {
          "output_type": "display_data",
          "data": {
            "image/png": "[encoded data removed]",
            "text/plain": [
              "<Figure size 720x504 with 1 Axes>"
            ]
          },
          "metadata": {
            "tags": []
          }
        }
      ]
    },
    {
      "cell_type": "markdown",
      "metadata": {
        "id": "G_quvNb5Iu-T",
        "colab_type": "text"
      },
      "source": [
        "Vamos criar as dummies\n",
        "\n"
      ]
    },
    {
      "cell_type": "code",
      "metadata": {
        "id": "LVocQEbJIyHq",
        "colab_type": "code",
        "colab": {}
      },
      "source": [
        "\n",
        "df = pd.get_dummies(df, columns=['Gender', 'Country', 'self_employed', 'family_history', 'treatment', 'work_interfere',\n",
        "                 'no_employees', 'remote_work', 'tech_company', 'anonymity', 'leave', 'mental_health_consequence',\n",
        "                 'phys_health_consequence', 'coworkers', 'supervisor', 'mental_health_interview', 'phys_health_interview',\n",
        "                 'mental_vs_physical', 'obs_consequence', 'benefits', 'care_options', 'wellness_program',\n",
        "                 'seek_help'])"
      ],
      "execution_count": 0,
      "outputs": []
    },
    {
      "cell_type": "code",
      "metadata": {
        "id": "Mw9WNaeLI2wR",
        "colab_type": "code",
        "colab": {
          "base_uri": "https://localhost:8080/",
          "height": 34
        },
        "outputId": "28ce8a1f-92d9-49f2-e008-bf714aa3a2cc"
      },
      "source": [
        "df.shape\n"
      ],
      "execution_count": 22,
      "outputs": [
        {
          "output_type": "execute_result",
          "data": {
            "text/plain": [
              "(1007, 71)"
            ]
          },
          "metadata": {
            "tags": []
          },
          "execution_count": 22
        }
      ]
    },
    {
      "cell_type": "code",
      "metadata": {
        "id": "cYeRHtuoI8Yp",
        "colab_type": "code",
        "colab": {
          "base_uri": "https://localhost:8080/",
          "height": 527
        },
        "outputId": "71e41221-33c6-4e73-a079-280dcb64b543"
      },
      "source": [
        "df.columns.values\n"
      ],
      "execution_count": 23,
      "outputs": [
        {
          "output_type": "execute_result",
          "data": {
            "text/plain": [
              "array(['Age', 'Gender_female', 'Gender_male', 'Gender_trans',\n",
              "       'Country_Canada', 'Country_United Kingdom',\n",
              "       'Country_United States', 'self_employed_No', 'self_employed_Yes',\n",
              "       'family_history_No', 'family_history_Yes', 'treatment_No',\n",
              "       'treatment_Yes', 'work_interfere_DontKnow', 'work_interfere_Never',\n",
              "       'work_interfere_Often', 'work_interfere_Rarely',\n",
              "       'work_interfere_Sometimes', 'no_employees_1-5',\n",
              "       'no_employees_100-500', 'no_employees_26-100',\n",
              "       'no_employees_500-1000', 'no_employees_6-25',\n",
              "       'no_employees_More than 1000', 'remote_work_No', 'remote_work_Yes',\n",
              "       'tech_company_No', 'tech_company_Yes', \"anonymity_Don't know\",\n",
              "       'anonymity_No', 'anonymity_Yes', \"leave_Don't know\",\n",
              "       'leave_Somewhat difficult', 'leave_Somewhat easy',\n",
              "       'leave_Very difficult', 'leave_Very easy',\n",
              "       'mental_health_consequence_Maybe', 'mental_health_consequence_No',\n",
              "       'mental_health_consequence_Yes', 'phys_health_consequence_Maybe',\n",
              "       'phys_health_consequence_No', 'phys_health_consequence_Yes',\n",
              "       'coworkers_No', 'coworkers_Some of them', 'coworkers_Yes',\n",
              "       'supervisor_No', 'supervisor_Some of them', 'supervisor_Yes',\n",
              "       'mental_health_interview_Maybe', 'mental_health_interview_No',\n",
              "       'mental_health_interview_Yes', 'phys_health_interview_Maybe',\n",
              "       'phys_health_interview_No', 'phys_health_interview_Yes',\n",
              "       \"mental_vs_physical_Don't know\", 'mental_vs_physical_No',\n",
              "       'mental_vs_physical_Yes', 'obs_consequence_No',\n",
              "       'obs_consequence_Yes', \"benefits_Don't know\", 'benefits_No',\n",
              "       'benefits_Yes', 'care_options_No', 'care_options_Not sure',\n",
              "       'care_options_Yes', \"wellness_program_Don't know\",\n",
              "       'wellness_program_No', 'wellness_program_Yes',\n",
              "       \"seek_help_Don't know\", 'seek_help_No', 'seek_help_Yes'],\n",
              "      dtype=object)"
            ]
          },
          "metadata": {
            "tags": []
          },
          "execution_count": 23
        }
      ]
    },
    {
      "cell_type": "code",
      "metadata": {
        "id": "lQhLea3SJAqW",
        "colab_type": "code",
        "colab": {}
      },
      "source": [
        "df.drop(columns=['family_history_No', 'treatment_No', 'remote_work_No', 'tech_company_No'], inplace=True)\n"
      ],
      "execution_count": 0,
      "outputs": []
    },
    {
      "cell_type": "markdown",
      "metadata": {
        "id": "Jf0S9NxNJFiR",
        "colab_type": "text"
      },
      "source": [
        "Vamos dar uma olhada na distribuição da variável resposta:\n",
        "\n"
      ]
    },
    {
      "cell_type": "code",
      "metadata": {
        "id": "EtihPSyEJJ7W",
        "colab_type": "code",
        "colab": {
          "base_uri": "https://localhost:8080/",
          "height": 279
        },
        "outputId": "59a86fc8-2141-4ef7-ed0d-e5834188ddeb"
      },
      "source": [
        "df['treatment_Yes'].value_counts().plot(kind='bar')\n"
      ],
      "execution_count": 25,
      "outputs": [
        {
          "output_type": "execute_result",
          "data": {
            "text/plain": [
              "<matplotlib.axes._subplots.AxesSubplot at 0x7f1a27769978>"
            ]
          },
          "metadata": {
            "tags": []
          },
          "execution_count": 25
        },
        {
          "output_type": "display_data",
          "data": {
            "image/png": "[encoded data removed]",
            "text/plain": [
              "<Figure size 432x288 with 1 Axes>"
            ]
          },
          "metadata": {
            "tags": []
          }
        }
      ]
    },
    {
      "cell_type": "markdown",
      "metadata": {
        "id": "hEMNw1buJRSB",
        "colab_type": "text"
      },
      "source": [
        "**Finalmente, vamos ao treinamento!**"
      ]
    },
    {
      "cell_type": "markdown",
      "metadata": {
        "id": "7ef5JyIwJUvX",
        "colab_type": "text"
      },
      "source": [
        "Vamos separar os dados em treino e teste:\n",
        "\n"
      ]
    },
    {
      "cell_type": "code",
      "metadata": {
        "id": "7ArGIi82KOf9",
        "colab_type": "code",
        "colab": {
          "base_uri": "https://localhost:8080/",
          "height": 34
        },
        "outputId": "9f46a21f-bdbf-48aa-9c1f-41e2ae6c9f51"
      },
      "source": [
        "X = df.drop('treatment_Yes', axis=1)\n",
        "y = df['treatment_Yes']\n",
        "\n",
        "X_train, X_test, y_train, y_test = train_test_split(X , y, test_size = 0.15, random_state=0)\n",
        "print(X_train.shape)"
      ],
      "execution_count": 26,
      "outputs": [
        {
          "output_type": "stream",
          "text": [
            "(855, 66)\n"
          ],
          "name": "stdout"
        }
      ]
    },
    {
      "cell_type": "markdown",
      "metadata": {
        "id": "-NJ5AtATK0ua",
        "colab_type": "text"
      },
      "source": [
        "Vamos usar os dois métodos mais dummies que aprendemos até agora para tentar predizer\n",
        "\n",
        "## **Relembrando Árvores de Decisão:**\n",
        "![](https://camo.githubusercontent.com/4609369ddfe1d448ee89385cb5fbb477240799d7/68747470733a2f2f616e6e616c797a696e2e66696c65732e776f726470726573732e636f6d2f323031362f30372f6465636973696f6e2d74726565732d746974616e69632d7475746f7269616c2e706e67)\n"
      ]
    },
    {
      "cell_type": "code",
      "metadata": {
        "id": "qoAfWlRTKx5J",
        "colab_type": "code",
        "colab": {
          "base_uri": "https://localhost:8080/",
          "height": 119
        },
        "outputId": "6c2c83b2-05af-492c-d9c3-da6385e29230"
      },
      "source": [
        "# crie o modelo com random state igual a 10\n",
        "model_tree = DecisionTreeClassifier(random_state=10)\n",
        "model_tree.fit(X_train, y_train)"
      ],
      "execution_count": 27,
      "outputs": [
        {
          "output_type": "execute_result",
          "data": {
            "text/plain": [
              "DecisionTreeClassifier(class_weight=None, criterion='gini', max_depth=None,\n",
              "                       max_features=None, max_leaf_nodes=None,\n",
              "                       min_impurity_decrease=0.0, min_impurity_split=None,\n",
              "                       min_samples_leaf=1, min_samples_split=2,\n",
              "                       min_weight_fraction_leaf=0.0, presort=False,\n",
              "                       random_state=10, splitter='best')"
            ]
          },
          "metadata": {
            "tags": []
          },
          "execution_count": 27
        }
      ]
    },
    {
      "cell_type": "code",
      "metadata": {
        "id": "vQzaM66rLSwO",
        "colab_type": "code",
        "colab": {
          "base_uri": "https://localhost:8080/",
          "height": 68
        },
        "outputId": "91b4c50a-f17b-4a52-9cf7-28f5e26fc6e7"
      },
      "source": [
        "y_pred_tree_train = model_tree.predict_proba(X_train)\n",
        "print(\"Acurácia: {:.2f}\".format(accuracy_score(y_train, y_pred_tree_train[:,1]>0.5)))\n",
        "print(\"Precisão: {:.2f}\".format(precision_score(y_train, y_pred_tree_train[:,1]>0.5)))\n",
        "print(\"Sensibilidade: {:.2f}\".format(recall_score(y_train, y_pred_tree_train[:,1]>0.5)))"
      ],
      "execution_count": 28,
      "outputs": [
        {
          "output_type": "stream",
          "text": [
            "Acurácia: 1.00\n",
            "Precisão: 1.00\n",
            "Sensibilidade: 1.00\n"
          ],
          "name": "stdout"
        }
      ]
    },
    {
      "cell_type": "code",
      "metadata": {
        "id": "9wv4mcdWLVD1",
        "colab_type": "code",
        "colab": {
          "base_uri": "https://localhost:8080/",
          "height": 68
        },
        "outputId": "1c54caf4-2171-419f-f313-d5199bcb2a0c"
      },
      "source": [
        "y_pred_tree = model_tree.predict_proba(X_test)\n",
        "print(\"Acurácia: {:.2f}\".format(accuracy_score(y_test, y_pred_tree[:,1]>0.5)))\n",
        "print(\"Precisão: {:.2f}\".format(precision_score(y_test, y_pred_tree[:,1]>0.5)))\n",
        "print(\"Sensibilidade: {:.2f}\".format(recall_score(y_test, y_pred_tree[:,1]>0.5)))"
      ],
      "execution_count": 29,
      "outputs": [
        {
          "output_type": "stream",
          "text": [
            "Acurácia: 0.81\n",
            "Precisão: 0.85\n",
            "Sensibilidade: 0.80\n"
          ],
          "name": "stdout"
        }
      ]
    },
    {
      "cell_type": "markdown",
      "metadata": {
        "id": "7dswaAP0LlTF",
        "colab_type": "text"
      },
      "source": [
        "## **KNN**\n",
        "![](https://camo.githubusercontent.com/839183b188da810210556c866346f7b0258327cb/68747470733a2f2f696d706f7274712e66696c65732e776f726470726573732e636f6d2f323031372f31312f6b6e6e5f6e656967682e6769663f773d363536)\n",
        "\n",
        " * algoritmo de abordagem \"preguiçosa\"\n",
        " * assume que elementos similares estão em proximidade\n",
        " * Calcula a distância para os N vizinhos mais próximos e determina a classe de acordo com a classe dos vizinhos\n",
        "\n",
        "Mais informações: https://www.analyticsvidhya.com/blog/2018/03/introduction-k-neighbours-algorithm-clustering/"
      ]
    },
    {
      "cell_type": "code",
      "metadata": {
        "id": "ofzagwrkL_e4",
        "colab_type": "code",
        "colab": {
          "base_uri": "https://localhost:8080/",
          "height": 68
        },
        "outputId": "3ef75355-49db-483a-bf95-644f23bf1684"
      },
      "source": [
        "# crie o modelo com random state igual a 10\n",
        "model_knn = KNeighborsClassifier()\n",
        "model_knn.fit(X_train,y_train)"
      ],
      "execution_count": 30,
      "outputs": [
        {
          "output_type": "execute_result",
          "data": {
            "text/plain": [
              "KNeighborsClassifier(algorithm='auto', leaf_size=30, metric='minkowski',\n",
              "                     metric_params=None, n_jobs=None, n_neighbors=5, p=2,\n",
              "                     weights='uniform')"
            ]
          },
          "metadata": {
            "tags": []
          },
          "execution_count": 30
        }
      ]
    },
    {
      "cell_type": "code",
      "metadata": {
        "id": "aetpQr_HMTUE",
        "colab_type": "code",
        "colab": {
          "base_uri": "https://localhost:8080/",
          "height": 68
        },
        "outputId": "d40d3d7d-a7c0-45e6-ce9e-7c5655752a71"
      },
      "source": [
        "y_pred_knn_train = model_knn.predict_proba(X_train)\n",
        "print(\"Acurácia: {:.2f}\".format(accuracy_score(y_train, y_pred_knn_train[:,1]>0.5)))\n",
        "print(\"Precisão: {:.2f}\".format(precision_score(y_train, y_pred_knn_train[:,1]>0.5)))\n",
        "print(\"Sensibilidade: {:.2f}\".format(recall_score(y_train, y_pred_knn_train[:,1]>0.5)))"
      ],
      "execution_count": 31,
      "outputs": [
        {
          "output_type": "stream",
          "text": [
            "Acurácia: 0.78\n",
            "Precisão: 0.81\n",
            "Sensibilidade: 0.76\n"
          ],
          "name": "stdout"
        }
      ]
    },
    {
      "cell_type": "code",
      "metadata": {
        "id": "Rbe2Z_jmMVgE",
        "colab_type": "code",
        "colab": {
          "base_uri": "https://localhost:8080/",
          "height": 68
        },
        "outputId": "f46c3679-6a24-4015-80ec-450148f78b95"
      },
      "source": [
        "y_pred_knn = model_knn.predict_proba(X_test)\n",
        "print(\"Acurácia: {:.2f}\".format(accuracy_score(y_test, y_pred_knn[:,1]>0.5)))\n",
        "print(\"Precisão: {:.2f}\".format(precision_score(y_test, y_pred_knn[:,1]>0.5)))\n",
        "print(\"Sensibilidade: {:.2f}\".format(recall_score(y_test, y_pred_knn[:,1]>0.5)))"
      ],
      "execution_count": 32,
      "outputs": [
        {
          "output_type": "stream",
          "text": [
            "Acurácia: 0.69\n",
            "Precisão: 0.71\n",
            "Sensibilidade: 0.72\n"
          ],
          "name": "stdout"
        }
      ]
    },
    {
      "cell_type": "markdown",
      "metadata": {
        "id": "_N3UfSbaMd78",
        "colab_type": "text"
      },
      "source": [
        "Como acham que podemos combinar esses modelos?"
      ]
    },
    {
      "cell_type": "code",
      "metadata": {
        "id": "ffnHR468Mf-s",
        "colab_type": "code",
        "colab": {
          "base_uri": "https://localhost:8080/",
          "height": 408
        },
        "outputId": "9a2e1881-b7eb-4c12-990d-65123ea558e9"
      },
      "source": [
        "\n",
        "model_vot = VotingClassifier(estimators=[('tree', model_tree), ('knn', model_knn)], voting='soft')\n",
        "model_vot.fit(X_train, y_train)"
      ],
      "execution_count": 33,
      "outputs": [
        {
          "output_type": "execute_result",
          "data": {
            "text/plain": [
              "VotingClassifier(estimators=[('tree',\n",
              "                              DecisionTreeClassifier(class_weight=None,\n",
              "                                                     criterion='gini',\n",
              "                                                     max_depth=None,\n",
              "                                                     max_features=None,\n",
              "                                                     max_leaf_nodes=None,\n",
              "                                                     min_impurity_decrease=0.0,\n",
              "                                                     min_impurity_split=None,\n",
              "                                                     min_samples_leaf=1,\n",
              "                                                     min_samples_split=2,\n",
              "                                                     min_weight_fraction_leaf=0.0,\n",
              "                                                     presort=False,\n",
              "                                                     random_state=10,\n",
              "                                                     splitter='best')),\n",
              "                             ('knn',\n",
              "                              KNeighborsClassifier(algorithm='auto',\n",
              "                                                   leaf_size=30,\n",
              "                                                   metric='minkowski',\n",
              "                                                   metric_params=None,\n",
              "                                                   n_jobs=None, n_neighbors=5,\n",
              "                                                   p=2, weights='uniform'))],\n",
              "                 flatten_transform=True, n_jobs=None, voting='soft',\n",
              "                 weights=None)"
            ]
          },
          "metadata": {
            "tags": []
          },
          "execution_count": 33
        }
      ]
    },
    {
      "cell_type": "code",
      "metadata": {
        "id": "ai6sLap4Miwu",
        "colab_type": "code",
        "colab": {
          "base_uri": "https://localhost:8080/",
          "height": 68
        },
        "outputId": "dd9636a2-e1f4-4129-8cf9-76f5682ede2b"
      },
      "source": [
        "y_pred = model_vot.predict(X_test)\n",
        "print(\"Acurácia: {:.2f}\".format(accuracy_score(y_test, y_pred)))\n",
        "print(\"Precisão: {:.2f}\".format(precision_score(y_test, y_pred)))\n",
        "print(\"Sensibilidade: {:.2f}\".format(recall_score(y_test, y_pred)))"
      ],
      "execution_count": 34,
      "outputs": [
        {
          "output_type": "stream",
          "text": [
            "Acurácia: 0.82\n",
            "Precisão: 0.87\n",
            "Sensibilidade: 0.80\n"
          ],
          "name": "stdout"
        }
      ]
    },
    {
      "cell_type": "code",
      "metadata": {
        "id": "YkH4mcb5Mkl3",
        "colab_type": "code",
        "colab": {}
      },
      "source": [
        "x_novo = np.array([y_pred_tree_train[:,1], y_pred_knn_train[:,1]])\n",
        "x_novo = x_novo.transpose()\n",
        "\n",
        "x_novo_test = np.array([y_pred_tree[:,1], y_pred_knn[:,1]])\n",
        "x_novo_test = x_novo_test.transpose()"
      ],
      "execution_count": 0,
      "outputs": []
    },
    {
      "cell_type": "code",
      "metadata": {
        "id": "FUb8trqgMmiq",
        "colab_type": "code",
        "colab": {
          "base_uri": "https://localhost:8080/",
          "height": 102
        },
        "outputId": "ee84e716-f7e7-43bd-840d-20c331853c4d"
      },
      "source": [
        "model_lr2 = LogisticRegression()\n",
        "model_lr2.fit(x_novo, y_train)"
      ],
      "execution_count": 36,
      "outputs": [
        {
          "output_type": "execute_result",
          "data": {
            "text/plain": [
              "LogisticRegression(C=1.0, class_weight=None, dual=False, fit_intercept=True,\n",
              "                   intercept_scaling=1, l1_ratio=None, max_iter=100,\n",
              "                   multi_class='warn', n_jobs=None, penalty='l2',\n",
              "                   random_state=None, solver='warn', tol=0.0001, verbose=0,\n",
              "                   warm_start=False)"
            ]
          },
          "metadata": {
            "tags": []
          },
          "execution_count": 36
        }
      ]
    },
    {
      "cell_type": "code",
      "metadata": {
        "id": "gQ2WUDIPMpbR",
        "colab_type": "code",
        "colab": {
          "base_uri": "https://localhost:8080/",
          "height": 68
        },
        "outputId": "8991baea-e2c3-4369-d396-0cc190b0b918"
      },
      "source": [
        "y_pred_lr = model_lr2.predict_proba(x_novo_test)\n",
        "print(\"Acurácia: {:.2f}\".format(accuracy_score(y_test, y_pred_lr[:,1]>0.5)))\n",
        "print(\"Precisão: {:.2f}\".format(precision_score(y_test, y_pred_lr[:,1]>0.5)))\n",
        "print(\"Sensibilidade: {:.2f}\".format(recall_score(y_test, y_pred_lr[:,1]>0.5)))"
      ],
      "execution_count": 37,
      "outputs": [
        {
          "output_type": "stream",
          "text": [
            "Acurácia: 0.81\n",
            "Precisão: 0.85\n",
            "Sensibilidade: 0.80\n"
          ],
          "name": "stdout"
        }
      ]
    },
    {
      "cell_type": "markdown",
      "metadata": {
        "id": "35IATCjXNTVo",
        "colab_type": "text"
      },
      "source": [
        "**Tipos de Ensemble:**\n",
        "\n",
        "Existem vários formas diferentes de combinar os modelos. As principais são:\n",
        "\n",
        "**1) Voting Based Classifier:**\n",
        "\n",
        "  **1. a) Majority Vote**\n",
        "\n",
        "A ideia é fazer uma votação entre as predições dos modelos. A classe que tiver mais votos vence. Também podemos ter uma variação desse algoritmo, o Weighted Voting Classifier, em que na votação alguns modelos tem mais peso que outros.\n",
        "![](https://github.com/WoMakersCode/data-science-bootcamp/raw/5061009af98f0287c9a2c1e22e865d25f756602f/5.%20Algoritmos%20de%20Machine%20Learning%20e%20aplica%C3%A7%C3%B5es%20em%20larga%20escala/notebooks/voting.png)\n",
        "\n",
        "**1. b) Average Classifier:**\n",
        "\n",
        "A ideia é similar ao anterior, porém ao invés de uma votação é calculada a média das predições. Da mesma forma podemos ter alguns modelos com mais peso que outros tendo um Weighted Average Classifier\n",
        "![](https://github.com/WoMakersCode/data-science-bootcamp/raw/5061009af98f0287c9a2c1e22e865d25f756602f/5.%20Algoritmos%20de%20Machine%20Learning%20e%20aplica%C3%A7%C3%B5es%20em%20larga%20escala/notebooks/average.png)\n",
        "\n",
        "**2. Stacking:**\n",
        "\n",
        "Nesse modelo as predições dos modelos anteriores são combinadas por um outro modelo para obter a saída final. Podem ser criadas várias camadas com modelos diferentes.\n",
        "![](https://github.com/WoMakersCode/data-science-bootcamp/raw/5061009af98f0287c9a2c1e22e865d25f756602f/5.%20Algoritmos%20de%20Machine%20Learning%20e%20aplica%C3%A7%C3%B5es%20em%20larga%20escala/notebooks/stacking.png)\n",
        "\n",
        "**3. Boosting:**\n",
        "\n",
        "Os modelos são treinados com os mesmos datasets, porém os pesos das intâncias são ajustados de acordo com o erro das predições anteriores. Veram mais na próxima aula.\n",
        "![](https://github.com/WoMakersCode/data-science-bootcamp/raw/5061009af98f0287c9a2c1e22e865d25f756602f/5.%20Algoritmos%20de%20Machine%20Learning%20e%20aplica%C3%A7%C3%B5es%20em%20larga%20escala/notebooks/boosting.png)\n",
        "\n",
        "**4. BAGGING:**\n",
        "\n",
        "Todos os modelos deste tipo de ensemble são do mesmo algoritmo, porém os dados de entrada de cada um são amostras do dado original, com a mesma quantidade de dados do dataset original, selecionadas usando o método bootstrap (aleatória com repetição).\n",
        "\n",
        "AQUI TEMOS A RANDOM FOREST\n",
        "![](https://github.com/WoMakersCode/data-science-bootcamp/raw/5061009af98f0287c9a2c1e22e865d25f756602f/5.%20Algoritmos%20de%20Machine%20Learning%20e%20aplica%C3%A7%C3%B5es%20em%20larga%20escala/notebooks/bagging.png)\n",
        "\n",
        "**4. RANDOM FOREST**\n",
        "\n",
        "Como Funciona?\n",
        "![](https://camo.githubusercontent.com/9da154ee33d93c82cfd6e9101eecd1e2559f581c/68747470733a2f2f63646e2d696d616765732d312e6d656469756d2e636f6d2f6d61782f313630302f312a796f573330585671416e4b4f412d3741417258714e672e676966)\n",
        "\n",
        " * Algoritmo de bagging que usa árvores de decisão\n",
        " * Cada árvore terá um conjunto diferente de dados e de features\n",
        " * Out-of-bag score: os dados que não foram usados naquela árvore são utilizados como teste"
      ]
    },
    {
      "cell_type": "code",
      "metadata": {
        "id": "XsaCVvjkPqfu",
        "colab_type": "code",
        "colab": {
          "base_uri": "https://localhost:8080/",
          "height": 136
        },
        "outputId": "17d53611-7a25-4a2f-e942-398394159052"
      },
      "source": [
        "model = RandomForestClassifier(n_estimators=10, random_state=0, oob_score=True)\n",
        "model.fit(X_train, y_train)"
      ],
      "execution_count": 38,
      "outputs": [
        {
          "output_type": "execute_result",
          "data": {
            "text/plain": [
              "RandomForestClassifier(bootstrap=True, class_weight=None, criterion='gini',\n",
              "                       max_depth=None, max_features='auto', max_leaf_nodes=None,\n",
              "                       min_impurity_decrease=0.0, min_impurity_split=None,\n",
              "                       min_samples_leaf=1, min_samples_split=2,\n",
              "                       min_weight_fraction_leaf=0.0, n_estimators=10,\n",
              "                       n_jobs=None, oob_score=True, random_state=0, verbose=0,\n",
              "                       warm_start=False)"
            ]
          },
          "metadata": {
            "tags": []
          },
          "execution_count": 38
        }
      ]
    },
    {
      "cell_type": "code",
      "metadata": {
        "id": "u-MRL4zJPwbw",
        "colab_type": "code",
        "colab": {
          "base_uri": "https://localhost:8080/",
          "height": 34
        },
        "outputId": "446de9c4-5de3-4a85-cc5c-a62f24b3d9e4"
      },
      "source": [
        "model.oob_score_\n"
      ],
      "execution_count": 39,
      "outputs": [
        {
          "output_type": "execute_result",
          "data": {
            "text/plain": [
              "0.7543859649122807"
            ]
          },
          "metadata": {
            "tags": []
          },
          "execution_count": 39
        }
      ]
    },
    {
      "cell_type": "code",
      "metadata": {
        "id": "jqUT-K3WPyj5",
        "colab_type": "code",
        "colab": {
          "base_uri": "https://localhost:8080/",
          "height": 68
        },
        "outputId": "ee675fff-39c9-4eb6-9479-013a8b732463"
      },
      "source": [
        "y_pred = model.predict(X_test)\n",
        "print(\"Acurácia: {:.2f}\".format(accuracy_score(y_test, y_pred)))\n",
        "print(\"Precisão: {:.2f}\".format(precision_score(y_test, y_pred)))\n",
        "print(\"Sensibilidade: {:.2f}\".format(recall_score(y_test, y_pred)))"
      ],
      "execution_count": 40,
      "outputs": [
        {
          "output_type": "stream",
          "text": [
            "Acurácia: 0.86\n",
            "Precisão: 0.85\n",
            "Sensibilidade: 0.89\n"
          ],
          "name": "stdout"
        }
      ]
    },
    {
      "cell_type": "markdown",
      "metadata": {
        "id": "FYJ68IhfP1qn",
        "colab_type": "text"
      },
      "source": [
        "Vamos testar outras combinações de parâmetros?\n",
        "\n",
        " Dica 1: Manter o mesmo random_state para comparação de resultados\n",
        "\n",
        " Dica 2: Os parâmetros são similares as árvores de decisão\n",
        " \n",
        " Dica 3: Número de estimadores e de features são os mais relevantes"
      ]
    },
    {
      "cell_type": "markdown",
      "metadata": {
        "id": "2M-uI7YgXNIj",
        "colab_type": "text"
      },
      "source": [
        "**Mudando \"n_estimators\"**"
      ]
    },
    {
      "cell_type": "code",
      "metadata": {
        "id": "E6J0hYR0P4me",
        "colab_type": "code",
        "colab": {
          "base_uri": "https://localhost:8080/",
          "height": 136
        },
        "outputId": "9a6abf82-a3c9-4411-acf6-bc54dc203bfc"
      },
      "source": [
        "model_new = RandomForestClassifier(n_estimators=100, random_state=0, oob_score=True)\n",
        "model_new.fit(X_train, y_train)"
      ],
      "execution_count": 64,
      "outputs": [
        {
          "output_type": "execute_result",
          "data": {
            "text/plain": [
              "RandomForestClassifier(bootstrap=True, class_weight=None, criterion='gini',\n",
              "                       max_depth=None, max_features='auto', max_leaf_nodes=None,\n",
              "                       min_impurity_decrease=0.0, min_impurity_split=None,\n",
              "                       min_samples_leaf=1, min_samples_split=2,\n",
              "                       min_weight_fraction_leaf=0.0, n_estimators=100,\n",
              "                       n_jobs=None, oob_score=True, random_state=0, verbose=0,\n",
              "                       warm_start=False)"
            ]
          },
          "metadata": {
            "tags": []
          },
          "execution_count": 64
        }
      ]
    },
    {
      "cell_type": "code",
      "metadata": {
        "id": "_yp94Ei1TrkC",
        "colab_type": "code",
        "colab": {
          "base_uri": "https://localhost:8080/",
          "height": 34
        },
        "outputId": "6a74e448-4879-4701-c50c-2fe73bb0a95d"
      },
      "source": [
        "model_new.oob_score_\n"
      ],
      "execution_count": 65,
      "outputs": [
        {
          "output_type": "execute_result",
          "data": {
            "text/plain": [
              "0.8198830409356725"
            ]
          },
          "metadata": {
            "tags": []
          },
          "execution_count": 65
        }
      ]
    },
    {
      "cell_type": "code",
      "metadata": {
        "id": "9fuY6wQqTsZv",
        "colab_type": "code",
        "colab": {
          "base_uri": "https://localhost:8080/",
          "height": 68
        },
        "outputId": "d9a99de8-6a6a-452a-9a37-da865b8ca890"
      },
      "source": [
        "y_pred = model_new.predict(X_test)\n",
        "print(\"Acurácia: {:.2f}\".format(accuracy_score(y_test, y_pred)))\n",
        "print(\"Precisão: {:.2f}\".format(precision_score(y_test, y_pred)))\n",
        "print(\"Sensibilidade: {:.2f}\".format(recall_score(y_test, y_pred)))"
      ],
      "execution_count": 66,
      "outputs": [
        {
          "output_type": "stream",
          "text": [
            "Acurácia: 0.90\n",
            "Precisão: 0.88\n",
            "Sensibilidade: 0.95\n"
          ],
          "name": "stdout"
        }
      ]
    },
    {
      "cell_type": "markdown",
      "metadata": {
        "id": "jQCrv67UXIiB",
        "colab_type": "text"
      },
      "source": [
        "**Mudando \"max_features\"**\n"
      ]
    },
    {
      "cell_type": "code",
      "metadata": {
        "id": "7nFb9JsiTsoL",
        "colab_type": "code",
        "colab": {
          "base_uri": "https://localhost:8080/",
          "height": 136
        },
        "outputId": "5044da98-b94b-40b1-b70f-c946f412ac3f"
      },
      "source": [
        "model2 = RandomForestClassifier(n_estimators=100, max_features=7, random_state=0, oob_score=True)\n",
        "model2.fit(X_train, y_train)"
      ],
      "execution_count": 67,
      "outputs": [
        {
          "output_type": "execute_result",
          "data": {
            "text/plain": [
              "RandomForestClassifier(bootstrap=True, class_weight=None, criterion='gini',\n",
              "                       max_depth=None, max_features=7, max_leaf_nodes=None,\n",
              "                       min_impurity_decrease=0.0, min_impurity_split=None,\n",
              "                       min_samples_leaf=1, min_samples_split=2,\n",
              "                       min_weight_fraction_leaf=0.0, n_estimators=100,\n",
              "                       n_jobs=None, oob_score=True, random_state=0, verbose=0,\n",
              "                       warm_start=False)"
            ]
          },
          "metadata": {
            "tags": []
          },
          "execution_count": 67
        }
      ]
    },
    {
      "cell_type": "code",
      "metadata": {
        "id": "Tyf5fzSoXr18",
        "colab_type": "code",
        "colab": {
          "base_uri": "https://localhost:8080/",
          "height": 34
        },
        "outputId": "92f2d512-ccc1-4d07-c5f7-0f92e645c6ae"
      },
      "source": [
        "model2.oob_score_\n"
      ],
      "execution_count": 68,
      "outputs": [
        {
          "output_type": "execute_result",
          "data": {
            "text/plain": [
              "0.8385964912280702"
            ]
          },
          "metadata": {
            "tags": []
          },
          "execution_count": 68
        }
      ]
    },
    {
      "cell_type": "code",
      "metadata": {
        "id": "sq2gnKUjYGBD",
        "colab_type": "code",
        "colab": {
          "base_uri": "https://localhost:8080/",
          "height": 68
        },
        "outputId": "a3831c1c-0750-4680-d039-1b510111f7ea"
      },
      "source": [
        "y_pred = model2.predict(X_test)\n",
        "print(\"Acurácia: {:.2f}\".format(accuracy_score(y_test, y_pred)))\n",
        "print(\"Precisão: {:.2f}\".format(precision_score(y_test, y_pred)))\n",
        "print(\"Sensibilidade: {:.2f}\".format(recall_score(y_test, y_pred)))"
      ],
      "execution_count": 69,
      "outputs": [
        {
          "output_type": "stream",
          "text": [
            "Acurácia: 0.91\n",
            "Precisão: 0.90\n",
            "Sensibilidade: 0.95\n"
          ],
          "name": "stdout"
        }
      ]
    },
    {
      "cell_type": "markdown",
      "metadata": {
        "id": "AAxR-zbHTwKB",
        "colab_type": "text"
      },
      "source": [
        "Feature importance:\n",
        "\n"
      ]
    },
    {
      "cell_type": "code",
      "metadata": {
        "id": "DtIJ_9ZTTzC3",
        "colab_type": "code",
        "colab": {
          "base_uri": "https://localhost:8080/",
          "height": 879
        },
        "outputId": "7618ba0a-9108-4943-8746-7bd9134f48a9"
      },
      "source": [
        "importances = model.feature_importances_\n",
        "std = np.std([tree.feature_importances_ for tree in model.estimators_],\n",
        "             axis=0)\n",
        "indices = np.argsort(importances)[::1]\n",
        "\n",
        "\n",
        "# Plot the feature importances of the forest\n",
        "plt.figure(figsize=(15,15))\n",
        "plt.title(\"Feature importances\")\n",
        "plt.barh(range(X.shape[1]), importances[indices],\n",
        "       color=\"r\", yerr=std[indices], align=\"center\")\n",
        "plt.yticks(range(X.shape[1]), X.columns[indices])\n",
        "plt.ylim([-1, X.shape[1]])\n",
        "plt.show()"
      ],
      "execution_count": 70,
      "outputs": [
        {
          "output_type": "display_data",
          "data": {
            "image/png": "[encoded data removed]",
            "text/plain": [
              "<Figure size 1080x1080 with 1 Axes>"
            ]
          },
          "metadata": {
            "tags": []
          }
        }
      ]
    },
    {
      "cell_type": "code",
      "metadata": {
        "id": "-1VUxUwWT1bt",
        "colab_type": "code",
        "colab": {
          "base_uri": "https://localhost:8080/",
          "height": 481
        },
        "outputId": "49e6cb5e-bdec-4b02-e6d0-c3e508017e56"
      },
      "source": [
        "from sklearn.tree import export_graphviz\n",
        "# Export as dot file\n",
        "export_graphviz(model.estimators_[0], out_file='tree.dot', \n",
        "                feature_names = X.columns,\n",
        "                class_names = ['1', '0'],\n",
        "                rounded = True, proportion = False, \n",
        "                precision = 2, filled = True, max_depth=4)\n",
        "\n",
        "# Convert to png using system command (requires Graphviz)\n",
        "from subprocess import call\n",
        "call(['dot', '-Tpng', 'tree.dot', '-o', 'tree.png', '-Gdpi=50'])\n",
        "\n",
        "# Display\n",
        "from IPython.display import Image\n",
        "Image(filename = 'tree.png')"
      ],
      "execution_count": 74,
      "outputs": [
        {
          "output_type": "execute_result",
          "data": {
            "image/png": "[encoded data removed]",
            "text/plain": [
              "<IPython.core.display.Image object>"
            ]
          },
          "metadata": {
            "tags": []
          },
          "execution_count": 74
        }
      ]
    },
    {
      "cell_type": "markdown",
      "metadata": {
        "id": "iJoXLoeKZcYq",
        "colab_type": "text"
      },
      "source": [
        "**5. LightGBM (Gradient Boosting Machine)**\n",
        "\n",
        "![](https://camo.githubusercontent.com/95570c91c38e90fa5094b07b4e5bd3562797add7/68747470733a2f2f696d6167652e736c696465736861726563646e2e636f6d2f737472617461756b313773616c766172697366696572726f666173747265747261696e696e672d3137303532333039303633352f39352f7370656564696e672d75702d6d616368696e656c6561726e696e672d6170706c69636174696f6e732d776974682d7468652d6c6967687467626d2d6c6962726172792d362d3633382e6a7067)"
      ]
    },
    {
      "cell_type": "code",
      "metadata": {
        "id": "PADB6EPOaAAQ",
        "colab_type": "code",
        "colab": {}
      },
      "source": [
        "import lightgbm as lgb\n"
      ],
      "execution_count": 0,
      "outputs": []
    },
    {
      "cell_type": "code",
      "metadata": {
        "id": "T9cBQpUyaKRz",
        "colab_type": "code",
        "colab": {
          "base_uri": "https://localhost:8080/",
          "height": 119
        },
        "outputId": "16d8a59c-fedb-4660-98d3-3eef18492ee5"
      },
      "source": [
        "model = lgb.LGBMClassifier(objective = 'binary',\n",
        "          n_jobs = 3, # Updated from 'nthread'\n",
        "          silent = True,\n",
        "          max_depth = 10,\n",
        "          min_child_samples=5,\n",
        "          learning_rate=0.1,\n",
        "          n_estimators=50,\n",
        "          num_leaves= 8)\n",
        "\n",
        "\n",
        "model.fit(X_train, y_train)"
      ],
      "execution_count": 76,
      "outputs": [
        {
          "output_type": "execute_result",
          "data": {
            "text/plain": [
              "LGBMClassifier(boosting_type='gbdt', class_weight=None, colsample_bytree=1.0,\n",
              "               importance_type='split', learning_rate=0.1, max_depth=10,\n",
              "               min_child_samples=5, min_child_weight=0.001, min_split_gain=0.0,\n",
              "               n_estimators=50, n_jobs=3, num_leaves=8, objective='binary',\n",
              "               random_state=None, reg_alpha=0.0, reg_lambda=0.0, silent=True,\n",
              "               subsample=1.0, subsample_for_bin=200000, subsample_freq=0)"
            ]
          },
          "metadata": {
            "tags": []
          },
          "execution_count": 76
        }
      ]
    },
    {
      "cell_type": "code",
      "metadata": {
        "id": "lAVRWXyqaMIH",
        "colab_type": "code",
        "colab": {
          "base_uri": "https://localhost:8080/",
          "height": 68
        },
        "outputId": "1de248a3-1135-46b6-8868-af481a332462"
      },
      "source": [
        "y_pred = model.predict(X_test)\n",
        "\n",
        "print(\"Acurácia: {:.2f}\".format(accuracy_score(y_test, y_pred)))\n",
        "print(\"Precisão: {:.2f}\".format(precision_score(y_test, y_pred)))\n",
        "print(\"Sensibilidade: {:.2f}\".format(recall_score(y_test, y_pred)))"
      ],
      "execution_count": 77,
      "outputs": [
        {
          "output_type": "stream",
          "text": [
            "Acurácia: 0.92\n",
            "Precisão: 0.89\n",
            "Sensibilidade: 0.98\n"
          ],
          "name": "stdout"
        }
      ]
    },
    {
      "cell_type": "markdown",
      "metadata": {
        "id": "F2MyBN0FaQ4h",
        "colab_type": "text"
      },
      "source": [
        "\n",
        "Desafios legais para serem resolvidos com ensemble:\n",
        "\n",
        "https://www.kaggle.com/c/avito-demand-prediction/data\n",
        "\n",
        "https://www.kaggle.com/c/recruit-restaurant-visitor-forecasting\n",
        "\n",
        "https://www.kaggle.com/c/sf-crime\n",
        "\n",
        "https://www.kaggle.com/c/house-prices-advanced-regression-techniques"
      ]
    }
  ]
}