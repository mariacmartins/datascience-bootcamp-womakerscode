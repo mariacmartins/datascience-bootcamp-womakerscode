{
  "nbformat": 4,
  "nbformat_minor": 0,
  "metadata": {
    "colab": {
      "name": "Redes Neurais WoMakers Code.ipynb",
      "provenance": [],
      "collapsed_sections": []
    },
    "language_info": {
      "codemirror_mode": {
        "name": "ipython",
        "version": 3
      },
      "file_extension": ".py",
      "mimetype": "text/x-python",
      "name": "python",
      "nbconvert_exporter": "python",
      "pygments_lexer": "ipython3",
      "version": "3.6.7"
    },
    "kernelspec": {
      "display_name": "Python 3",
      "language": "python",
      "name": "python3"
    }
  },
  "cells": [
    {
      "cell_type": "markdown",
      "metadata": {
        "id": "dGYEB3wu01rh",
        "colab_type": "text"
      },
      "source": [
        "# Redes Neurais Artificiais"
      ]
    },
    {
      "cell_type": "markdown",
      "metadata": {
        "tags": [
          "remove_cell"
        ],
        "id": "A8ksqCDU01rj",
        "colab_type": "text"
      },
      "source": [
        "## Preparando os dados"
      ]
    },
    {
      "cell_type": "markdown",
      "metadata": {
        "id": "wRKKNfl801rk",
        "colab_type": "text"
      },
      "source": [
        "Vamos criar uma rede neural simples para prever *churn* de clientes. \n",
        "\n",
        "Vamos começar pela leitura dos dados:"
      ]
    },
    {
      "cell_type": "code",
      "metadata": {
        "id": "dQBGMhka01rl",
        "colab_type": "code",
        "colab": {}
      },
      "source": [
        "import pandas as pd"
      ],
      "execution_count": 0,
      "outputs": []
    },
    {
      "cell_type": "code",
      "metadata": {
        "id": "8D6e8mbB01ro",
        "colab_type": "code",
        "colab": {
          "base_uri": "https://localhost:8080/",
          "height": 204
        },
        "outputId": "c8303835-35b1-4914-9b4f-4566c6ba2ebf"
      },
      "source": [
        "df = pd.read_csv('https://raw.githubusercontent.com/WoMakersCode/data-science-bootcamp/master/5.1%20Deep%20Learning/data/Churn_Modelling.csv')\n",
        "df.head()"
      ],
      "execution_count": 2,
      "outputs": [
        {
          "output_type": "execute_result",
          "data": {
            "text/html": [
              "<div>\n",
              "<style scoped>\n",
              "    .dataframe tbody tr th:only-of-type {\n",
              "        vertical-align: middle;\n",
              "    }\n",
              "\n",
              "    .dataframe tbody tr th {\n",
              "        vertical-align: top;\n",
              "    }\n",
              "\n",
              "    .dataframe thead th {\n",
              "        text-align: right;\n",
              "    }\n",
              "</style>\n",
              "<table border=\"1\" class=\"dataframe\">\n",
              "  <thead>\n",
              "    <tr style=\"text-align: right;\">\n",
              "      <th></th>\n",
              "      <th>RowNumber</th>\n",
              "      <th>CustomerId</th>\n",
              "      <th>Surname</th>\n",
              "      <th>CreditScore</th>\n",
              "      <th>Geography</th>\n",
              "      <th>Gender</th>\n",
              "      <th>Age</th>\n",
              "      <th>Tenure</th>\n",
              "      <th>Balance</th>\n",
              "      <th>NumOfProducts</th>\n",
              "      <th>HasCrCard</th>\n",
              "      <th>IsActiveMember</th>\n",
              "      <th>EstimatedSalary</th>\n",
              "      <th>Exited</th>\n",
              "    </tr>\n",
              "  </thead>\n",
              "  <tbody>\n",
              "    <tr>\n",
              "      <th>0</th>\n",
              "      <td>1</td>\n",
              "      <td>15634602</td>\n",
              "      <td>Hargrave</td>\n",
              "      <td>619</td>\n",
              "      <td>France</td>\n",
              "      <td>Female</td>\n",
              "      <td>42</td>\n",
              "      <td>2</td>\n",
              "      <td>0.00</td>\n",
              "      <td>1</td>\n",
              "      <td>1</td>\n",
              "      <td>1</td>\n",
              "      <td>101348.88</td>\n",
              "      <td>1</td>\n",
              "    </tr>\n",
              "    <tr>\n",
              "      <th>1</th>\n",
              "      <td>2</td>\n",
              "      <td>15647311</td>\n",
              "      <td>Hill</td>\n",
              "      <td>608</td>\n",
              "      <td>Spain</td>\n",
              "      <td>Female</td>\n",
              "      <td>41</td>\n",
              "      <td>1</td>\n",
              "      <td>83807.86</td>\n",
              "      <td>1</td>\n",
              "      <td>0</td>\n",
              "      <td>1</td>\n",
              "      <td>112542.58</td>\n",
              "      <td>0</td>\n",
              "    </tr>\n",
              "    <tr>\n",
              "      <th>2</th>\n",
              "      <td>3</td>\n",
              "      <td>15619304</td>\n",
              "      <td>Onio</td>\n",
              "      <td>502</td>\n",
              "      <td>France</td>\n",
              "      <td>Female</td>\n",
              "      <td>42</td>\n",
              "      <td>8</td>\n",
              "      <td>159660.80</td>\n",
              "      <td>3</td>\n",
              "      <td>1</td>\n",
              "      <td>0</td>\n",
              "      <td>113931.57</td>\n",
              "      <td>1</td>\n",
              "    </tr>\n",
              "    <tr>\n",
              "      <th>3</th>\n",
              "      <td>4</td>\n",
              "      <td>15701354</td>\n",
              "      <td>Boni</td>\n",
              "      <td>699</td>\n",
              "      <td>France</td>\n",
              "      <td>Female</td>\n",
              "      <td>39</td>\n",
              "      <td>1</td>\n",
              "      <td>0.00</td>\n",
              "      <td>2</td>\n",
              "      <td>0</td>\n",
              "      <td>0</td>\n",
              "      <td>93826.63</td>\n",
              "      <td>0</td>\n",
              "    </tr>\n",
              "    <tr>\n",
              "      <th>4</th>\n",
              "      <td>5</td>\n",
              "      <td>15737888</td>\n",
              "      <td>Mitchell</td>\n",
              "      <td>850</td>\n",
              "      <td>Spain</td>\n",
              "      <td>Female</td>\n",
              "      <td>43</td>\n",
              "      <td>2</td>\n",
              "      <td>125510.82</td>\n",
              "      <td>1</td>\n",
              "      <td>1</td>\n",
              "      <td>1</td>\n",
              "      <td>79084.10</td>\n",
              "      <td>0</td>\n",
              "    </tr>\n",
              "  </tbody>\n",
              "</table>\n",
              "</div>"
            ],
            "text/plain": [
              "   RowNumber  CustomerId   Surname  ...  IsActiveMember EstimatedSalary Exited\n",
              "0          1    15634602  Hargrave  ...               1       101348.88      1\n",
              "1          2    15647311      Hill  ...               1       112542.58      0\n",
              "2          3    15619304      Onio  ...               0       113931.57      1\n",
              "3          4    15701354      Boni  ...               0        93826.63      0\n",
              "4          5    15737888  Mitchell  ...               1        79084.10      0\n",
              "\n",
              "[5 rows x 14 columns]"
            ]
          },
          "metadata": {
            "tags": []
          },
          "execution_count": 2
        }
      ]
    },
    {
      "cell_type": "code",
      "metadata": {
        "id": "lZmlsHwT01rt",
        "colab_type": "code",
        "colab": {
          "base_uri": "https://localhost:8080/",
          "height": 68
        },
        "outputId": "affdf999-6d26-4ed2-9f7d-6cbff57580af"
      },
      "source": [
        "df['Exited'].value_counts()"
      ],
      "execution_count": 3,
      "outputs": [
        {
          "output_type": "execute_result",
          "data": {
            "text/plain": [
              "0    7963\n",
              "1    2037\n",
              "Name: Exited, dtype: int64"
            ]
          },
          "metadata": {
            "tags": []
          },
          "execution_count": 3
        }
      ]
    },
    {
      "cell_type": "code",
      "metadata": {
        "scrolled": true,
        "id": "aCqt05at01rw",
        "colab_type": "code",
        "colab": {
          "base_uri": "https://localhost:8080/",
          "height": 85
        },
        "outputId": "9ea85f9f-8f34-43d4-a258-dab53e3fa966"
      },
      "source": [
        "df['Geography'].value_counts()"
      ],
      "execution_count": 4,
      "outputs": [
        {
          "output_type": "execute_result",
          "data": {
            "text/plain": [
              "France     5014\n",
              "Germany    2509\n",
              "Spain      2477\n",
              "Name: Geography, dtype: int64"
            ]
          },
          "metadata": {
            "tags": []
          },
          "execution_count": 4
        }
      ]
    },
    {
      "cell_type": "code",
      "metadata": {
        "id": "0IyE5ePm01ry",
        "colab_type": "code",
        "colab": {
          "base_uri": "https://localhost:8080/",
          "height": 68
        },
        "outputId": "8cc4cf61-5ab2-4dc9-b4f4-fffa23fee8d7"
      },
      "source": [
        "df['Gender'].value_counts()"
      ],
      "execution_count": 5,
      "outputs": [
        {
          "output_type": "execute_result",
          "data": {
            "text/plain": [
              "Male      5457\n",
              "Female    4543\n",
              "Name: Gender, dtype: int64"
            ]
          },
          "metadata": {
            "tags": []
          },
          "execution_count": 5
        }
      ]
    },
    {
      "cell_type": "markdown",
      "metadata": {
        "id": "F55WS_t401r1",
        "colab_type": "text"
      },
      "source": [
        "Para este exemplo vamos fazer um tratamento simples dos dados, apenas convertendo as variáveis categoricas em dummies:"
      ]
    },
    {
      "cell_type": "code",
      "metadata": {
        "id": "oGs6BI9s01r1",
        "colab_type": "code",
        "colab": {
          "base_uri": "https://localhost:8080/",
          "height": 102
        },
        "outputId": "813245ab-d0b4-45a8-d072-4018e0afa89b"
      },
      "source": [
        "df = pd.get_dummies(df, columns=['Geography', 'Gender'])\n",
        "df.columns"
      ],
      "execution_count": 6,
      "outputs": [
        {
          "output_type": "execute_result",
          "data": {
            "text/plain": [
              "Index(['RowNumber', 'CustomerId', 'Surname', 'CreditScore', 'Age', 'Tenure',\n",
              "       'Balance', 'NumOfProducts', 'HasCrCard', 'IsActiveMember',\n",
              "       'EstimatedSalary', 'Exited', 'Geography_France', 'Geography_Germany',\n",
              "       'Geography_Spain', 'Gender_Female', 'Gender_Male'],\n",
              "      dtype='object')"
            ]
          },
          "metadata": {
            "tags": []
          },
          "execution_count": 6
        }
      ]
    },
    {
      "cell_type": "markdown",
      "metadata": {
        "id": "Z_dg-Si001r5",
        "colab_type": "text"
      },
      "source": [
        "Vamos separar os dados de teste e treinamento:"
      ]
    },
    {
      "cell_type": "code",
      "metadata": {
        "id": "zyu-8JLl01r6",
        "colab_type": "code",
        "colab": {}
      },
      "source": [
        "X = df[['CreditScore', 'Age', 'Tenure', 'Balance', 'NumOfProducts', 'HasCrCard', 'IsActiveMember','EstimatedSalary', \n",
        "        'Geography_France', 'Geography_Germany', 'Geography_Spain', 'Gender_Female']]\n",
        "\n",
        "y = df['Exited']"
      ],
      "execution_count": 0,
      "outputs": []
    },
    {
      "cell_type": "code",
      "metadata": {
        "id": "SeBizmWM01r8",
        "colab_type": "code",
        "colab": {
          "base_uri": "https://localhost:8080/",
          "height": 34
        },
        "outputId": "dd535ce9-6701-4a0b-975c-0bb806abd821"
      },
      "source": [
        "from sklearn.model_selection import train_test_split\n",
        "\n",
        "X_train, X_test, y_train, y_test = train_test_split(X , y, test_size = 0.1)\n",
        "X_train, X_val, y_train, y_val = train_test_split(X_train , y_train, test_size = 0.1)\n",
        "\n",
        "print(X_train.shape)"
      ],
      "execution_count": 8,
      "outputs": [
        {
          "output_type": "stream",
          "text": [
            "(8100, 12)\n"
          ],
          "name": "stdout"
        }
      ]
    },
    {
      "cell_type": "code",
      "metadata": {
        "id": "-DJrD5LK01r_",
        "colab_type": "code",
        "colab": {}
      },
      "source": [
        "from sklearn.preprocessing import StandardScaler\n",
        "sc = StandardScaler()\n",
        "X_train = sc.fit_transform(X_train)\n",
        "X_test = sc.transform(X_test)\n",
        "X_val = sc.transform(X_val)"
      ],
      "execution_count": 0,
      "outputs": []
    },
    {
      "cell_type": "markdown",
      "metadata": {
        "id": "_G1rFBZZ01sB",
        "colab_type": "text"
      },
      "source": [
        "## Construindo o modelo"
      ]
    },
    {
      "cell_type": "markdown",
      "metadata": {
        "id": "R-YJYGJs01sC",
        "colab_type": "text"
      },
      "source": [
        "Agora com o dados prontos vamos montar a nossa rede neural. Vamos usar a library [Keras](https://keras.io) rodando em cima do [TensorFlow](https://tensorflow.org/)\n",
        "\n",
        "\n",
        "1. Definição da arquitetura\n",
        "\n",
        "2. Compilação\n",
        "\n",
        "3. Treinamento\n",
        "\n",
        "4. Avaliação"
      ]
    },
    {
      "cell_type": "markdown",
      "metadata": {
        "id": "xyW6ePju01sC",
        "colab_type": "text"
      },
      "source": [
        "### 1. Definição da arquitetura: \n",
        "Definir a arquitetura da rede"
      ]
    },
    {
      "cell_type": "code",
      "metadata": {
        "id": "kQPVavi-01sD",
        "colab_type": "code",
        "colab": {
          "base_uri": "https://localhost:8080/",
          "height": 80
        },
        "outputId": "72f3e501-207a-409e-b530-1e49ee94a6c4"
      },
      "source": [
        "import keras\n",
        "from keras.models import Sequential\n",
        "from keras.layers import Dense\n",
        "from keras.optimizers import Adam"
      ],
      "execution_count": 10,
      "outputs": [
        {
          "output_type": "stream",
          "text": [
            "Using TensorFlow backend.\n"
          ],
          "name": "stderr"
        },
        {
          "output_type": "display_data",
          "data": {
            "text/html": [
              "<p style=\"color: red;\">\n",
              "The default version of TensorFlow in Colab will soon switch to TensorFlow 2.x.<br>\n",
              "We recommend you <a href=\"https://www.tensorflow.org/guide/migrate\" target=\"_blank\">upgrade</a> now \n",
              "or ensure your notebook will continue to use TensorFlow 1.x via the <code>%tensorflow_version 1.x</code> magic:\n",
              "<a href=\"https://colab.research.google.com/notebooks/tensorflow_version.ipynb\" target=\"_blank\">more info</a>.</p>\n"
            ],
            "text/plain": [
              "<IPython.core.display.HTML object>"
            ]
          },
          "metadata": {
            "tags": []
          }
        }
      ]
    },
    {
      "cell_type": "code",
      "metadata": {
        "id": "c3vTyK8M01sF",
        "colab_type": "code",
        "colab": {}
      },
      "source": [
        "def build_model():\n",
        "    model = Sequential()\n",
        "    \n",
        "    # primeira camada adiciona o shape do input\n",
        "    # adiciona a funcao de ativacao\n",
        "    # quantidade de units (neurônios)\n",
        "    #input_dim = quantas variáveis de entrada (presentes no X)\n",
        "    # também é possível alterar a inicializacao, bias, entre outros -- https://keras.io/layers/core/\n",
        "    model.add(Dense(units=10, input_dim=12, activation='relu'))\n",
        "    model.add(Dense(10, activation='relu'))\n",
        "    \n",
        "    #Camada de saida com o resultado de 1 classe e a ativação sigmoid -- outras funções de ativação: https://keras.io/activations/\n",
        "    model.add(Dense(1, activation='sigmoid'))\n",
        "    return model"
      ],
      "execution_count": 0,
      "outputs": []
    },
    {
      "cell_type": "markdown",
      "metadata": {
        "id": "dd61j62S01sI",
        "colab_type": "text"
      },
      "source": [
        "### Vamos entender melhor as funções de ativação:"
      ]
    },
    {
      "cell_type": "markdown",
      "metadata": {
        "id": "qnut6mXL01sI",
        "colab_type": "text"
      },
      "source": [
        "Em cada neurônio da rede há uma função de ativação, que decide se o neurônio deve ser *ativado*, e transmitir informações para a próxima camada.\n",
        "\n",
        "![](https://i1.wp.com/deeplearningbook.com.br/wp-content/uploads/2018/02/act.png?w=406)\n",
        "\n",
        "A função mais comum nas camadas intermediárias é a relu:\n",
        "\n",
        "![](https://cdn-images-1.medium.com/max/937/1*oePAhrm74RNnNEolprmTaQ.png)\n",
        "\n",
        "Na camada de saída a rede precisa nos retornar a probabilidade do cliente fazer o cancelamento.\n",
        "\n",
        "Por ser uma probabilidade (de 0 a 1), nós usamos a função sigmoid:\n",
        "\n",
        "![as vezes a função sigmóide é simplesmente representada pela curva S](https://sabedoriararefeita.files.wordpress.com/2016/02/ann_sigmoid.png?w=615)\n",
        "\n",
        "\n",
        "Outras funções comuns:\n",
        "\n",
        "Softmax -> Usada na camada de output para problemas de multiclasse, a soma das probabilidades de todas as classes dará 1.\n",
        "\n",
        "elu -> para ser usada nas camadas intermediarias no lugar da relu, uma exponencial é aplicada nos valores menores que 0.\n",
        "\n",
        "> Em regressão não há função de ativação na camada de output\n",
        "\n",
        "outras funções de ativação: https://keras.io/activations/\n",
        "explicações extras: http://deeplearningbook.com.br/funcao-de-ativacao/"
      ]
    },
    {
      "cell_type": "code",
      "metadata": {
        "id": "GqBxWWSX01sJ",
        "colab_type": "code",
        "colab": {
          "base_uri": "https://localhost:8080/",
          "height": 139
        },
        "outputId": "bdf2170c-e315-4c29-d872-d9af9a8bb2cb"
      },
      "source": [
        "model = build_model()"
      ],
      "execution_count": 12,
      "outputs": [
        {
          "output_type": "stream",
          "text": [
            "WARNING:tensorflow:From /usr/local/lib/python3.6/dist-packages/keras/backend/tensorflow_backend.py:66: The name tf.get_default_graph is deprecated. Please use tf.compat.v1.get_default_graph instead.\n",
            "\n",
            "WARNING:tensorflow:From /usr/local/lib/python3.6/dist-packages/keras/backend/tensorflow_backend.py:541: The name tf.placeholder is deprecated. Please use tf.compat.v1.placeholder instead.\n",
            "\n",
            "WARNING:tensorflow:From /usr/local/lib/python3.6/dist-packages/keras/backend/tensorflow_backend.py:4432: The name tf.random_uniform is deprecated. Please use tf.random.uniform instead.\n",
            "\n"
          ],
          "name": "stdout"
        }
      ]
    },
    {
      "cell_type": "code",
      "metadata": {
        "scrolled": true,
        "id": "R2-4sNUG01sL",
        "colab_type": "code",
        "colab": {
          "base_uri": "https://localhost:8080/",
          "height": 255
        },
        "outputId": "0ff77ffd-dfc5-4c2e-a14e-5aa4e222faa3"
      },
      "source": [
        "model.summary()"
      ],
      "execution_count": 13,
      "outputs": [
        {
          "output_type": "stream",
          "text": [
            "Model: \"sequential_1\"\n",
            "_________________________________________________________________\n",
            "Layer (type)                 Output Shape              Param #   \n",
            "=================================================================\n",
            "dense_1 (Dense)              (None, 10)                130       \n",
            "_________________________________________________________________\n",
            "dense_2 (Dense)              (None, 10)                110       \n",
            "_________________________________________________________________\n",
            "dense_3 (Dense)              (None, 1)                 11        \n",
            "=================================================================\n",
            "Total params: 251\n",
            "Trainable params: 251\n",
            "Non-trainable params: 0\n",
            "_________________________________________________________________\n"
          ],
          "name": "stdout"
        }
      ]
    },
    {
      "cell_type": "markdown",
      "metadata": {
        "id": "2F6w5JCt01sP",
        "colab_type": "text"
      },
      "source": [
        "> Podemos ver que na primeira camada 130 parâmetros (pesos) serão aprendidos ((12 inputs x 10 layers) + (1 bias * 10 layers))"
      ]
    },
    {
      "cell_type": "markdown",
      "metadata": {
        "id": "pGR3b2Sw01sP",
        "colab_type": "text"
      },
      "source": [
        "### 2. Compilar o modelo:\n",
        "\n",
        "Definer como a rede irá aprender. Qual o otimizador com os parâmetros de learning rate, função e parametros específicos da função e a loss function.\n"
      ]
    },
    {
      "cell_type": "code",
      "metadata": {
        "id": "3_XHomw-01sQ",
        "colab_type": "code",
        "colab": {
          "base_uri": "https://localhost:8080/",
          "height": 156
        },
        "outputId": "0a1dcae5-0e0c-4ea7-b269-508814781f07"
      },
      "source": [
        "# outras funções de loss: https://keras.io/losses/\n",
        "# outros optimizers: https://keras.io/optimizers/\n",
        "adam = Adam(lr=0.01)\n",
        "model.compile(loss='binary_crossentropy', \n",
        "             optimizer=adam,\n",
        "             metrics=['accuracy'])"
      ],
      "execution_count": 14,
      "outputs": [
        {
          "output_type": "stream",
          "text": [
            "WARNING:tensorflow:From /usr/local/lib/python3.6/dist-packages/keras/optimizers.py:793: The name tf.train.Optimizer is deprecated. Please use tf.compat.v1.train.Optimizer instead.\n",
            "\n",
            "WARNING:tensorflow:From /usr/local/lib/python3.6/dist-packages/keras/backend/tensorflow_backend.py:3657: The name tf.log is deprecated. Please use tf.math.log instead.\n",
            "\n",
            "WARNING:tensorflow:From /usr/local/lib/python3.6/dist-packages/tensorflow_core/python/ops/nn_impl.py:183: where (from tensorflow.python.ops.array_ops) is deprecated and will be removed in a future version.\n",
            "Instructions for updating:\n",
            "Use tf.where in 2.0, which has the same broadcast rule as np.where\n"
          ],
          "name": "stdout"
        }
      ]
    },
    {
      "cell_type": "markdown",
      "metadata": {
        "id": "1xuR3OIU01sT",
        "colab_type": "text"
      },
      "source": [
        "### Vamos entender como a rede aprende:"
      ]
    },
    {
      "cell_type": "markdown",
      "metadata": {
        "id": "1IDh89q001sU",
        "colab_type": "text"
      },
      "source": [
        "Para aprender os parâmetros $w$ e $b$ é preciso uma **função de custo**. Primeiro, vamos definir uma função de perda ou $Loss Function$ de modo que quanto mais próximo da resposta certa, menor seja o valor dessa função:\n",
        "\n",
        "$L(\\hat{y},y)=-(y\\log{\\hat{y}} + (1-y)\\log{(1-\\hat{y})})$ (binary_crossentropy)\n",
        "\n",
        "> Se uma instância tem label 1, então $(1-y)$ é $0$, deixando apenas o lado esquerdo da equação. Pra que ele seja o menor possível, $\\hat{y}$ precisa ser o maior possível, no caso o mais próximo de 1. O oposto também se aplica para quando o label é 0.\n",
        "\n",
        "Com isso, temos a funcão de custo:\n",
        "\n",
        "$J(w,b)=\\frac{1}{m}\\sum_{i=1}^{m}L(\\hat{y}^i,y^i)$\n",
        "\n",
        "Dado nosso custo, queremos encontrar $w$ e $b$ que minimize esse custo. Para isso utilizamos o **Gradiente Descendente**. A função de custo é uma funcão convexa, como uma bacia, então o que o gradiente faz é ir descendo o mais rápido possível até chegar no fundo da bacia, no menor ponto, independente do ponto inicial.\n",
        "\n",
        "![enter image description here](https://blog.paperspace.com/content/images/2018/05/68747470733a2f2f707669676965722e6769746875622e696f2f6d656469612f696d672f70617274312f6772616469656e745f64657363656e742e676966.gif)\n",
        "\n",
        "Para fazer essa \"decida\", utilizaremos a derivada do custo e uma taxa de aprendizado ou *learning rate*, da seguinte forma:\n",
        "\n",
        "A cada iteração do algoritmo temos $w = w - \\alpha \\frac{\\mathrm{d}J}{\\mathrm{d}w}$, sendo $\\alpha$ o learning rate.\n",
        "\n",
        "De modo geral, atualizamos w e b a cada iteração, sendo a velocidade controlada pelo learning rate, até chegarmos no ponto mínimo de custo."
      ]
    },
    {
      "cell_type": "markdown",
      "metadata": {
        "id": "W4RwH9Jb01sV",
        "colab_type": "text"
      },
      "source": [
        "**Mas o que é o Adam então?**"
      ]
    },
    {
      "cell_type": "markdown",
      "metadata": {
        "id": "oTnbH0jp01sX",
        "colab_type": "text"
      },
      "source": [
        "Algoritmo de otimização da taxa de aprendizado adaptável que foi projetado especificamente para o treinamento de redes neurais profundas, pode ser usado em vez do procedimento clássico de descida de gradiente estocástico (SGD) para atualizar os pesos da rede de forma iterativa com base nos dados de treinamento.\n",
        "\n",
        "![](https://cdn-images-1.medium.com/max/1600/1*X9gB3l_Wh5owNPCUsaYQVQ.png)\n",
        "\n",
        "Mais informações: [artigo original](https://arxiv.org/abs/1412.6980), [post explicativo](https://towardsdatascience.com/adam-latest-trends-in-deep-learning-optimization-6be9a291375c), [outros otimizadores](http://ruder.io/optimizing-gradient-descent/)\n",
        "\n"
      ]
    },
    {
      "cell_type": "markdown",
      "metadata": {
        "id": "eKEsEXn401sX",
        "colab_type": "text"
      },
      "source": [
        "> **Importante**: quando estiverem fazendo experimentos com NN, testem com SGD e Adam e com diferentes **LEARNING RATES**.\n"
      ]
    },
    {
      "cell_type": "markdown",
      "metadata": {
        "id": "jwITCmDi01sY",
        "colab_type": "text"
      },
      "source": [
        "### 3. Treinamento"
      ]
    },
    {
      "cell_type": "code",
      "metadata": {
        "id": "RyxaBoNB01sZ",
        "colab_type": "code",
        "colab": {
          "base_uri": "https://localhost:8080/",
          "height": 683
        },
        "outputId": "e5e486e1-6b56-4cc1-c994-ac63a7168c6d"
      },
      "source": [
        "model.fit(x=X_train, y=y_train, validation_data=(X_val,y_val), batch_size=16, epochs=10)"
      ],
      "execution_count": 15,
      "outputs": [
        {
          "output_type": "stream",
          "text": [
            "WARNING:tensorflow:From /usr/local/lib/python3.6/dist-packages/keras/backend/tensorflow_backend.py:1033: The name tf.assign_add is deprecated. Please use tf.compat.v1.assign_add instead.\n",
            "\n",
            "WARNING:tensorflow:From /usr/local/lib/python3.6/dist-packages/keras/backend/tensorflow_backend.py:1020: The name tf.assign is deprecated. Please use tf.compat.v1.assign instead.\n",
            "\n",
            "WARNING:tensorflow:From /usr/local/lib/python3.6/dist-packages/keras/backend/tensorflow_backend.py:3005: The name tf.Session is deprecated. Please use tf.compat.v1.Session instead.\n",
            "\n",
            "Train on 8100 samples, validate on 900 samples\n",
            "Epoch 1/10\n",
            "WARNING:tensorflow:From /usr/local/lib/python3.6/dist-packages/keras/backend/tensorflow_backend.py:190: The name tf.get_default_session is deprecated. Please use tf.compat.v1.get_default_session instead.\n",
            "\n",
            "WARNING:tensorflow:From /usr/local/lib/python3.6/dist-packages/keras/backend/tensorflow_backend.py:197: The name tf.ConfigProto is deprecated. Please use tf.compat.v1.ConfigProto instead.\n",
            "\n",
            "WARNING:tensorflow:From /usr/local/lib/python3.6/dist-packages/keras/backend/tensorflow_backend.py:207: The name tf.global_variables is deprecated. Please use tf.compat.v1.global_variables instead.\n",
            "\n",
            "WARNING:tensorflow:From /usr/local/lib/python3.6/dist-packages/keras/backend/tensorflow_backend.py:216: The name tf.is_variable_initialized is deprecated. Please use tf.compat.v1.is_variable_initialized instead.\n",
            "\n",
            "WARNING:tensorflow:From /usr/local/lib/python3.6/dist-packages/keras/backend/tensorflow_backend.py:223: The name tf.variables_initializer is deprecated. Please use tf.compat.v1.variables_initializer instead.\n",
            "\n",
            "8100/8100 [==============================] - 2s 199us/step - loss: 0.4379 - acc: 0.8146 - val_loss: 0.4329 - val_acc: 0.8111\n",
            "Epoch 2/10\n",
            "8100/8100 [==============================] - 1s 87us/step - loss: 0.3778 - acc: 0.8458 - val_loss: 0.3872 - val_acc: 0.8456\n",
            "Epoch 3/10\n",
            "8100/8100 [==============================] - 1s 90us/step - loss: 0.3491 - acc: 0.8578 - val_loss: 0.3871 - val_acc: 0.8456\n",
            "Epoch 4/10\n",
            "8100/8100 [==============================] - 1s 86us/step - loss: 0.3449 - acc: 0.8568 - val_loss: 0.3861 - val_acc: 0.8333\n",
            "Epoch 5/10\n",
            "8100/8100 [==============================] - 1s 92us/step - loss: 0.3423 - acc: 0.8604 - val_loss: 0.3742 - val_acc: 0.8489\n",
            "Epoch 6/10\n",
            "8100/8100 [==============================] - 1s 90us/step - loss: 0.3388 - acc: 0.8604 - val_loss: 0.3907 - val_acc: 0.8322\n",
            "Epoch 7/10\n",
            "8100/8100 [==============================] - 1s 93us/step - loss: 0.3375 - acc: 0.8625 - val_loss: 0.3798 - val_acc: 0.8400\n",
            "Epoch 8/10\n",
            "8100/8100 [==============================] - 1s 91us/step - loss: 0.3375 - acc: 0.8614 - val_loss: 0.3706 - val_acc: 0.8444\n",
            "Epoch 9/10\n",
            "8100/8100 [==============================] - 1s 93us/step - loss: 0.3352 - acc: 0.8648 - val_loss: 0.3880 - val_acc: 0.8378\n",
            "Epoch 10/10\n",
            "8100/8100 [==============================] - 1s 90us/step - loss: 0.3340 - acc: 0.8614 - val_loss: 0.3802 - val_acc: 0.8311\n"
          ],
          "name": "stdout"
        },
        {
          "output_type": "execute_result",
          "data": {
            "text/plain": [
              "<keras.callbacks.History at 0x7f0d28077dd8>"
            ]
          },
          "metadata": {
            "tags": []
          },
          "execution_count": 15
        }
      ]
    },
    {
      "cell_type": "markdown",
      "metadata": {
        "id": "xhYl1kcL01sb",
        "colab_type": "text"
      },
      "source": [
        "> Percebemos que só com 10 épocas a rede ainda não tinha convergido, o loss ainda estava caindo, então poderíamos treinar por mais épocas!"
      ]
    },
    {
      "cell_type": "markdown",
      "metadata": {
        "id": "qQGY_Rjt01sb",
        "colab_type": "text"
      },
      "source": [
        "Temos dois parâmetros importantes no treinamento:\n",
        "- Número de épocas: Quantas vezes a rede vai passar por todos as instâncias\n",
        "- Tamanho do batch: Qual o tamanho do bloco que ela vai usar, ou seja, quantas instâncias por vez passarão pela rede\n"
      ]
    },
    {
      "cell_type": "markdown",
      "metadata": {
        "id": "kOFC_EIE01sb",
        "colab_type": "text"
      },
      "source": [
        "### 4. Avaliação"
      ]
    },
    {
      "cell_type": "code",
      "metadata": {
        "id": "usQeizWV01sc",
        "colab_type": "code",
        "colab": {}
      },
      "source": [
        "y_pred = model.predict(X_test)\n",
        "y_pred = (y_pred > 0.5)"
      ],
      "execution_count": 0,
      "outputs": []
    },
    {
      "cell_type": "code",
      "metadata": {
        "id": "r67tho6C01sf",
        "colab_type": "code",
        "colab": {}
      },
      "source": [
        "from sklearn.metrics import confusion_matrix, accuracy_score, recall_score, precision_score"
      ],
      "execution_count": 0,
      "outputs": []
    },
    {
      "cell_type": "code",
      "metadata": {
        "id": "YSurd8ry01sg",
        "colab_type": "code",
        "colab": {
          "base_uri": "https://localhost:8080/",
          "height": 34
        },
        "outputId": "8f179f56-2217-4655-ddb7-a1086fd87acc"
      },
      "source": [
        "accuracy_score(y_test, y_pred)"
      ],
      "execution_count": 18,
      "outputs": [
        {
          "output_type": "execute_result",
          "data": {
            "text/plain": [
              "0.86"
            ]
          },
          "metadata": {
            "tags": []
          },
          "execution_count": 18
        }
      ]
    },
    {
      "cell_type": "code",
      "metadata": {
        "id": "Vtobs9R401si",
        "colab_type": "code",
        "colab": {
          "base_uri": "https://localhost:8080/",
          "height": 51
        },
        "outputId": "b424154b-c63d-4fa5-9af7-cfcff206db84"
      },
      "source": [
        "cm = confusion_matrix(y_test, y_pred)\n",
        "print(cm)"
      ],
      "execution_count": 19,
      "outputs": [
        {
          "output_type": "stream",
          "text": [
            "[[759  40]\n",
            " [100 101]]\n"
          ],
          "name": "stdout"
        }
      ]
    },
    {
      "cell_type": "code",
      "metadata": {
        "id": "FIgnuVeTGKhU",
        "colab_type": "code",
        "colab": {
          "base_uri": "https://localhost:8080/",
          "height": 34
        },
        "outputId": "7ba7b949-a813-41cb-b307-c24bebc78a6a"
      },
      "source": [
        "recall_score(y_test, y_pred)"
      ],
      "execution_count": 20,
      "outputs": [
        {
          "output_type": "execute_result",
          "data": {
            "text/plain": [
              "0.5024875621890548"
            ]
          },
          "metadata": {
            "tags": []
          },
          "execution_count": 20
        }
      ]
    },
    {
      "cell_type": "code",
      "metadata": {
        "id": "TY1vt9AyHOFE",
        "colab_type": "code",
        "colab": {
          "base_uri": "https://localhost:8080/",
          "height": 34
        },
        "outputId": "e354512e-1e3d-4e0a-ae51-a2bf3a2b59a2"
      },
      "source": [
        "precision_score(y_test, y_pred)"
      ],
      "execution_count": 21,
      "outputs": [
        {
          "output_type": "execute_result",
          "data": {
            "text/plain": [
              "0.7163120567375887"
            ]
          },
          "metadata": {
            "tags": []
          },
          "execution_count": 21
        }
      ]
    },
    {
      "cell_type": "markdown",
      "metadata": {
        "id": "YMEwIDCUGnNb",
        "colab_type": "text"
      },
      "source": [
        "Perceba que apesar da nossa acurácia ser alta, a qualidade do modelo é ruim com baixa sensibilidade. Vamos retreinar o mesmo modelo, desta vez passando peso para as classes."
      ]
    },
    {
      "cell_type": "code",
      "metadata": {
        "id": "ThkZfU-KG4xS",
        "colab_type": "code",
        "colab": {}
      },
      "source": [
        "model = build_model()\n",
        "model.compile(loss='binary_crossentropy', \n",
        "             optimizer=adam,\n",
        "             metrics=['accuracy'])\n",
        "\n"
      ],
      "execution_count": 0,
      "outputs": []
    },
    {
      "cell_type": "code",
      "metadata": {
        "id": "fEZGp8ilG45A",
        "colab_type": "code",
        "colab": {
          "base_uri": "https://localhost:8080/",
          "height": 391
        },
        "outputId": "f40695c5-78ab-460c-81b8-d8e7529d62a9"
      },
      "source": [
        "model.fit(x=X_train, y=y_train, validation_data=(X_val,y_val), batch_size=16, epochs=10, class_weight={0:0.2,1:0.8})"
      ],
      "execution_count": 23,
      "outputs": [
        {
          "output_type": "stream",
          "text": [
            "Train on 8100 samples, validate on 900 samples\n",
            "Epoch 1/10\n",
            "8100/8100 [==============================] - 1s 119us/step - loss: 0.1716 - acc: 0.7417 - val_loss: 0.5037 - val_acc: 0.7556\n",
            "Epoch 2/10\n",
            "8100/8100 [==============================] - 1s 82us/step - loss: 0.1542 - acc: 0.7878 - val_loss: 0.5254 - val_acc: 0.7511\n",
            "Epoch 3/10\n",
            "8100/8100 [==============================] - 1s 89us/step - loss: 0.1516 - acc: 0.7942 - val_loss: 0.4991 - val_acc: 0.7756\n",
            "Epoch 4/10\n",
            "8100/8100 [==============================] - 1s 91us/step - loss: 0.1505 - acc: 0.7984 - val_loss: 0.4507 - val_acc: 0.8100\n",
            "Epoch 5/10\n",
            "8100/8100 [==============================] - 1s 89us/step - loss: 0.1492 - acc: 0.8083 - val_loss: 0.5338 - val_acc: 0.7778\n",
            "Epoch 6/10\n",
            "8100/8100 [==============================] - 1s 93us/step - loss: 0.1484 - acc: 0.8102 - val_loss: 0.4613 - val_acc: 0.7922\n",
            "Epoch 7/10\n",
            "8100/8100 [==============================] - 1s 90us/step - loss: 0.1483 - acc: 0.8098 - val_loss: 0.4992 - val_acc: 0.7633\n",
            "Epoch 8/10\n",
            "8100/8100 [==============================] - 1s 90us/step - loss: 0.1471 - acc: 0.8058 - val_loss: 0.4917 - val_acc: 0.7911\n",
            "Epoch 9/10\n",
            "8100/8100 [==============================] - 1s 87us/step - loss: 0.1470 - acc: 0.8137 - val_loss: 0.5371 - val_acc: 0.7789\n",
            "Epoch 10/10\n",
            "8100/8100 [==============================] - 1s 91us/step - loss: 0.1466 - acc: 0.8154 - val_loss: 0.5570 - val_acc: 0.7644\n"
          ],
          "name": "stdout"
        },
        {
          "output_type": "execute_result",
          "data": {
            "text/plain": [
              "<keras.callbacks.History at 0x7f0d2185f780>"
            ]
          },
          "metadata": {
            "tags": []
          },
          "execution_count": 23
        }
      ]
    },
    {
      "cell_type": "code",
      "metadata": {
        "id": "SMbh_RJVHcIS",
        "colab_type": "code",
        "colab": {
          "base_uri": "https://localhost:8080/",
          "height": 51
        },
        "outputId": "43da63f3-5606-43dc-e2aa-96cca11a158e"
      },
      "source": [
        "y_pred = model.predict(X_test)\n",
        "y_pred = (y_pred > 0.5)\n",
        "\n",
        "cm = confusion_matrix(y_test, y_pred)\n",
        "print(cm)"
      ],
      "execution_count": 24,
      "outputs": [
        {
          "output_type": "stream",
          "text": [
            "[[647 152]\n",
            " [ 59 142]]\n"
          ],
          "name": "stdout"
        }
      ]
    },
    {
      "cell_type": "markdown",
      "metadata": {
        "id": "MahBjtzVEJ8B",
        "colab_type": "text"
      },
      "source": [
        "## Exercício:\n",
        "Crie uma nova arquitetura de rede para o mesmo dataset. Mude também o learning rate e a quantidade de épocas e compare os resultados\n"
      ]
    },
    {
      "cell_type": "code",
      "metadata": {
        "id": "_YaUW3OvFYv9",
        "colab_type": "code",
        "colab": {}
      },
      "source": [
        "def build_model2():\n",
        "    model = Sequential()\n",
        "    \n",
        "    model.add(Dense(units=11, input_dim=12, activation='relu'))\n",
        "    model.add(Dense(11, activation='relu'))\n",
        "    \n",
        "    #Camada de saida com o resultado de 1 classe e a ativação sigmoid -- outras funções de ativação: https://keras.io/activations/\n",
        "    model.add(Dense(1, activation='sigmoid'))\n",
        "    \n",
        "    \n",
        "    return model"
      ],
      "execution_count": 0,
      "outputs": []
    },
    {
      "cell_type": "code",
      "metadata": {
        "id": "1-omt5xgFY3x",
        "colab_type": "code",
        "colab": {
          "base_uri": "https://localhost:8080/",
          "height": 255
        },
        "outputId": "e7293124-e2f0-4d4f-c58d-e3467985195d"
      },
      "source": [
        "model2 = build_model2()\n",
        "model2.summary()"
      ],
      "execution_count": 73,
      "outputs": [
        {
          "output_type": "stream",
          "text": [
            "Model: \"sequential_7\"\n",
            "_________________________________________________________________\n",
            "Layer (type)                 Output Shape              Param #   \n",
            "=================================================================\n",
            "dense_19 (Dense)             (None, 11)                143       \n",
            "_________________________________________________________________\n",
            "dense_20 (Dense)             (None, 11)                132       \n",
            "_________________________________________________________________\n",
            "dense_21 (Dense)             (None, 1)                 12        \n",
            "=================================================================\n",
            "Total params: 287\n",
            "Trainable params: 287\n",
            "Non-trainable params: 0\n",
            "_________________________________________________________________\n"
          ],
          "name": "stdout"
        }
      ]
    },
    {
      "cell_type": "code",
      "metadata": {
        "id": "eYwBkuuBFY_f",
        "colab_type": "code",
        "colab": {}
      },
      "source": [
        "## TODO defina o learning rate\n",
        "\n",
        "adam = Adam(lr=0.015)\n",
        "model2.compile(loss='binary_crossentropy', \n",
        "             optimizer=adam,\n",
        "             metrics=['accuracy'])"
      ],
      "execution_count": 0,
      "outputs": []
    },
    {
      "cell_type": "code",
      "metadata": {
        "id": "b7ghlANBFZHY",
        "colab_type": "code",
        "colab": {
          "base_uri": "https://localhost:8080/",
          "height": 459
        },
        "outputId": "4f217eb9-6e83-4a80-9fc6-e7bb5ea551e3"
      },
      "source": [
        "## TODO defina o total de épocas\n",
        "model2.fit(x=X_train, y=y_train, validation_data=(X_val,y_val), batch_size=16, epochs=12, class_weight={0:0.2, 1:0.8})"
      ],
      "execution_count": 75,
      "outputs": [
        {
          "output_type": "stream",
          "text": [
            "Train on 8100 samples, validate on 900 samples\n",
            "Epoch 1/12\n",
            "8100/8100 [==============================] - 1s 182us/step - loss: 0.1744 - acc: 0.7175 - val_loss: 0.5296 - val_acc: 0.7333\n",
            "Epoch 2/12\n",
            "8100/8100 [==============================] - 1s 93us/step - loss: 0.1587 - acc: 0.7595 - val_loss: 0.5070 - val_acc: 0.7300\n",
            "Epoch 3/12\n",
            "8100/8100 [==============================] - 1s 103us/step - loss: 0.1569 - acc: 0.7664 - val_loss: 0.4831 - val_acc: 0.7811\n",
            "Epoch 4/12\n",
            "8100/8100 [==============================] - 1s 98us/step - loss: 0.1560 - acc: 0.7691 - val_loss: 0.4977 - val_acc: 0.7389\n",
            "Epoch 5/12\n",
            "8100/8100 [==============================] - 1s 102us/step - loss: 0.1547 - acc: 0.7762 - val_loss: 0.4987 - val_acc: 0.7411\n",
            "Epoch 6/12\n",
            "8100/8100 [==============================] - 1s 100us/step - loss: 0.1529 - acc: 0.7881 - val_loss: 0.4648 - val_acc: 0.7878\n",
            "Epoch 7/12\n",
            "8100/8100 [==============================] - 1s 99us/step - loss: 0.1520 - acc: 0.7898 - val_loss: 0.5320 - val_acc: 0.7489\n",
            "Epoch 8/12\n",
            "8100/8100 [==============================] - 1s 100us/step - loss: 0.1515 - acc: 0.7963 - val_loss: 0.5416 - val_acc: 0.7378\n",
            "Epoch 9/12\n",
            "8100/8100 [==============================] - 1s 103us/step - loss: 0.1517 - acc: 0.7886 - val_loss: 0.5081 - val_acc: 0.7889\n",
            "Epoch 10/12\n",
            "8100/8100 [==============================] - 1s 103us/step - loss: 0.1510 - acc: 0.7941 - val_loss: 0.4861 - val_acc: 0.7767\n",
            "Epoch 11/12\n",
            "8100/8100 [==============================] - 1s 98us/step - loss: 0.1497 - acc: 0.7988 - val_loss: 0.5476 - val_acc: 0.7100\n",
            "Epoch 12/12\n",
            "8100/8100 [==============================] - 1s 100us/step - loss: 0.1504 - acc: 0.7864 - val_loss: 0.5126 - val_acc: 0.7733\n"
          ],
          "name": "stdout"
        },
        {
          "output_type": "execute_result",
          "data": {
            "text/plain": [
              "<keras.callbacks.History at 0x7f0d2102e400>"
            ]
          },
          "metadata": {
            "tags": []
          },
          "execution_count": 75
        }
      ]
    },
    {
      "cell_type": "code",
      "metadata": {
        "id": "ULu15NUQFZS_",
        "colab_type": "code",
        "colab": {
          "base_uri": "https://localhost:8080/",
          "height": 51
        },
        "outputId": "d204450e-cc74-4656-e750-fae6e50078db"
      },
      "source": [
        "y_pred = model2.predict(X_test)\n",
        "y_pred = (y_pred > 0.5)\n",
        "cm = confusion_matrix(y_test, y_pred)\n",
        "print(cm)"
      ],
      "execution_count": 76,
      "outputs": [
        {
          "output_type": "stream",
          "text": [
            "[[645 154]\n",
            " [ 57 144]]\n"
          ],
          "name": "stdout"
        }
      ]
    },
    {
      "cell_type": "code",
      "metadata": {
        "id": "XBTH_30zbAMu",
        "colab_type": "code",
        "colab": {
          "base_uri": "https://localhost:8080/",
          "height": 34
        },
        "outputId": "04c95c05-e9ed-49e6-a2c9-a6f5448fe406"
      },
      "source": [
        "accuracy_score(y_test, y_pred)\n",
        "\n"
      ],
      "execution_count": 77,
      "outputs": [
        {
          "output_type": "execute_result",
          "data": {
            "text/plain": [
              "0.789"
            ]
          },
          "metadata": {
            "tags": []
          },
          "execution_count": 77
        }
      ]
    },
    {
      "cell_type": "code",
      "metadata": {
        "id": "-rTB1bcUbZjh",
        "colab_type": "code",
        "colab": {
          "base_uri": "https://localhost:8080/",
          "height": 34
        },
        "outputId": "ac0bda3b-e06f-408d-c0a0-a0ff721edc18"
      },
      "source": [
        "precision_score(y_test, y_pred)"
      ],
      "execution_count": 78,
      "outputs": [
        {
          "output_type": "execute_result",
          "data": {
            "text/plain": [
              "0.48322147651006714"
            ]
          },
          "metadata": {
            "tags": []
          },
          "execution_count": 78
        }
      ]
    },
    {
      "cell_type": "code",
      "metadata": {
        "id": "eEJvQSTrd7oV",
        "colab_type": "code",
        "colab": {
          "base_uri": "https://localhost:8080/",
          "height": 34
        },
        "outputId": "f0759c06-41ef-4f66-a88e-030c80a99c5e"
      },
      "source": [
        "recall_score(y_test, y_pred)"
      ],
      "execution_count": 79,
      "outputs": [
        {
          "output_type": "execute_result",
          "data": {
            "text/plain": [
              "0.7164179104477612"
            ]
          },
          "metadata": {
            "tags": []
          },
          "execution_count": 79
        }
      ]
    },
    {
      "cell_type": "markdown",
      "metadata": {
        "id": "Zof3PBhF01sk",
        "colab_type": "text"
      },
      "source": [
        "## Por que o crescimento de Deep Learning?\n",
        "\n",
        "<img src=\"https://kevinzakka.github.io/assets/app_dl/perf_vs_data.png\" alt=\"drawing\" width=\"600\"/>\n",
        "\n",
        "Algoritmos tradicionais tendem a estabilizar a performance apartir de uma certa quantidade de dados, enquanto redes neurais tendem a ficar cada vez melhores quanto mais dados são utilizados para o aprendizado.\n",
        "\n",
        "Portanto, o principal motivo que faz com que as NN cresçam nos últimos anos é o grande aumento na quantidade de **dados** disponíveis.  Além disso, o poder **computacional** também é muito maior nos dias atuais, principalmente com a utilização de GPU's. O que também permitiu o desenvolvimento de **algoritmos** mais complexos e potentes.\n"
      ]
    },
    {
      "cell_type": "markdown",
      "metadata": {
        "id": "WfkXMpe601sl",
        "colab_type": "text"
      },
      "source": [
        "Neural Networks, mais especificamente Deep Learning, tem grande aplicações em datas não-estruturados, como: Imagens, Aúdios e Textos."
      ]
    }
  ]
}